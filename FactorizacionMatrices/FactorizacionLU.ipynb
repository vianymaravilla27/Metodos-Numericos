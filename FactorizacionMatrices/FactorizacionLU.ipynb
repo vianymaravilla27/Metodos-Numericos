{
 "cells": [
  {
   "cell_type": "markdown",
   "metadata": {},
   "source": [
    "# Factorización $LU$\n",
    "\n",
    "Esta factorización consiste en determinar una forma equivalente para la matriz $A$ en la forma:\n",
    "\n",
    "\n",
    "$$A = LU$$\n",
    "\n",
    "\n",
    "Donde, $L$ es una matriz triangular inferior y $U$ es una matriz triangular superior, ahora bien, es importante señalar que no toda matriz no singular puede ser factorizada de esta forma, pero si una gran mayoría, por otra parte esta factorización nos beneficia al reducir el tiempo empleada en la solución del sistema."
   ]
  },
  {
   "cell_type": "code",
   "execution_count": 17,
   "metadata": {},
   "outputs": [],
   "source": [
    "# Importamos la libreria de numpy para manipular arreglos y álgebra lineal\n",
    "from numpy import array, zeros\n",
    "import numpy as np\n",
    "\n",
    "# Importamos la función señalada del determinante\n",
    "from numpy.linalg import det, solve, inv\n",
    "\n",
    "# Importamos la función para el método lu\n",
    "from scipy.linalg import lu"
   ]
  },
  {
   "cell_type": "code",
   "execution_count": 9,
   "metadata": {},
   "outputs": [],
   "source": [
    "# Definimos la matriz con la que estaremos trabajando\n",
    "A = array([[1, 1, 0, 3], [2, 1, -1, 1], [3, -1, -1, 2], [-1, 2, 3, -1]], dtype = float)\n",
    "B = array([[1, 1, 0, 3], [2, 1, -1, 1], [3, -1, -1, 2], [-1, 2, 3, -1]], dtype = float)"
   ]
  },
  {
   "cell_type": "code",
   "execution_count": 10,
   "metadata": {},
   "outputs": [
    {
     "name": "stdout",
     "output_type": "stream",
     "text": [
      "La matriz aumentada con la que trabajaremos es: \n",
      " [[ 1.  1.  0.  3.  1.  0.  0.  0.]\n",
      " [ 2.  1. -1.  1.  0.  1.  0.  0.]\n",
      " [ 3. -1. -1.  2.  0.  0.  1.  0.]\n",
      " [-1.  2.  3. -1.  0.  0.  0.  1.]] \n",
      "\n",
      "La matriz L es: \n",
      " [[ 1.  0.  0.  0.]\n",
      " [-2.  1.  0.  0.]\n",
      " [ 5. -4.  1.  0.]\n",
      " [-5.  3.  0.  1.]] \n",
      "\n",
      "La matriz U es: \n",
      " [[  1.   1.   0.   3.]\n",
      " [  0.  -1.  -1.  -5.]\n",
      " [  0.   0.   3.  13.]\n",
      " [  0.   0.   0. -13.]] \n",
      "\n"
     ]
    }
   ],
   "source": [
    "# Validamos que la matriz es invertible\n",
    "\n",
    "# Calculamos el tamaño del sistema\n",
    "n = len(A)\n",
    "\n",
    "if (det(A[:,:n]) != 0 and abs(det(A[:,:n])) > 10 ** (-5)):\n",
    "\n",
    "    # Construimos una matriz aumentada\n",
    "    matrizA = np.zeros((n,2 * n))\n",
    "    \n",
    "    # Asignamos los elementos de la matriz aumentada para determinar la factorización LU\n",
    "    matrizA[:,0:n] = A.copy()\n",
    "    matrizA[:,n:] = np.eye(n)\n",
    "    \n",
    "    print('La matriz aumentada con la que trabajaremos es: \\n', matrizA, '\\n')\n",
    "\n",
    "    # Ahora identificamos como se debe proceder para reducir la matriz para la siguiente fila\n",
    "\n",
    "    # Tomamos la fila para pivote de eliminación hacía abajo\n",
    "    for j in range(n):\n",
    "        \n",
    "        # Procedemos a validar si el coeficiente de la línea pivote no es cero\n",
    "        pivote = matrizA[j,j]\n",
    "        \n",
    "        # Verificamos si el pivote es diferente de cero\n",
    "        if pivote == 0:\n",
    "            \n",
    "            # Buscamos aquella celda pivote que sea diferente de cero\n",
    "            for k in range(j+1, n):\n",
    "                \n",
    "                # Determinamos la que es diferente de k\n",
    "                if matrizA[k,j] != 0 :\n",
    "                    \n",
    "                    # Auxiliar\n",
    "                    cambio = matrizA[j,:].copy()\n",
    "                    \n",
    "                    # Cambiamos lineas\n",
    "                    matrizA[j,:] = matrizA[k,:].copy()\n",
    "                    matrizA[k,:] = cambio.copy()\n",
    "                    \n",
    "                    # Rompemos el ciclo for\n",
    "                    break\n",
    "        \n",
    "        # Eliminamos las bajo la fila pivote\n",
    "        for i in range(j+1, n):\n",
    "            \n",
    "            # Determinamos el coeficiente a aplicar en cada fila\n",
    "            coef = matrizA[i,j] / matrizA[j,j]\n",
    "\n",
    "            # Realizamos la eliminación\n",
    "            matrizA[i,:] = matrizA[i,:] - coef * matrizA[j,:]\n",
    "    \n",
    "    # Imprimimos la matriz triangular inferior del proceso de eliminación\n",
    "    print('La matriz L es: \\n', matrizA[:,n:], '\\n')\n",
    "    \n",
    "    # Imprimimos la matriz triangular superior\n",
    "    print('La matriz U es: \\n', matrizA[:,0:n], '\\n')\n",
    "    \n",
    "else:\n",
    "    \n",
    "    print('La matriz no tiene solución única')"
   ]
  },
  {
   "cell_type": "code",
   "execution_count": 14,
   "metadata": {},
   "outputs": [
    {
     "data": {
      "text/plain": [
       "array([[ 1.00000000e+00,  1.00000000e+00,  1.77635684e-16,\n",
       "         3.00000000e+00],\n",
       "       [ 2.00000000e+00,  1.00000000e+00, -1.00000000e+00,\n",
       "         1.00000000e+00],\n",
       "       [ 3.00000000e+00, -1.00000000e+00, -1.00000000e+00,\n",
       "         2.00000000e+00],\n",
       "       [-1.00000000e+00,  2.00000000e+00,  3.00000000e+00,\n",
       "        -1.00000000e+00]])"
      ]
     },
     "execution_count": 14,
     "metadata": {},
     "output_type": "execute_result"
    }
   ],
   "source": [
    "# Validemos el producto y que este da como resultado\n",
    "inv(matrizA[:,n:]) @ matrizA[:,0:n]"
   ]
  },
  {
   "cell_type": "code",
   "execution_count": null,
   "metadata": {},
   "outputs": [],
   "source": []
  }
 ],
 "metadata": {
  "kernelspec": {
   "display_name": "Python 3",
   "language": "python",
   "name": "python3"
  },
  "language_info": {
   "codemirror_mode": {
    "name": "ipython",
    "version": 3
   },
   "file_extension": ".py",
   "mimetype": "text/x-python",
   "name": "python",
   "nbconvert_exporter": "python",
   "pygments_lexer": "ipython3",
   "version": "3.8.5"
  }
 },
 "nbformat": 4,
 "nbformat_minor": 4
}
