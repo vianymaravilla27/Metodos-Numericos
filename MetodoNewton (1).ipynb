{
 "cells": [
  {
   "cell_type": "markdown",
   "metadata": {},
   "source": [
    "# TAREA 4 METODOS NUMÉRICOS - METODO DE NEWTON\n",
    "\n",
    "## Alumno: \n",
    "Maaravilla Vianey\n",
    "## Profesor: \n",
    "Israel Sánchez Mendoza\n",
    "## Fecha de la clase:\n",
    "2/Septiembre/2021\n",
    "\n",
    "### Descripción de la tarea:  \n",
    "Para las siguientes funciones considere la ecuacion algebraıca f(x) = 0, aplique\n",
    "el metodo de Newton para obtener una aproximacion para la cual se satisfaga el siguiente error:\n",
    "\n",
    "$$|f (xn)| + |xn − xn−1| ≤ 1 × 10^−15$$\n",
    "\n",
    "### Procedimiento \n",
    "Para lo anterior, considere las siguientes funciones:\n",
    "1. $f : R → R$ donde la funcion f esta dada por:\n",
    "$$f (x) = e x + 2−x + 2 cos (x) − 6$$,\n",
    "considere el punto inicial x0 = 1.5.  \n",
    "\n",
    "2. f : R → R donde la funcion f esta dada por:\n",
    "$$f (x) = 2x cos (2x) − (x − 2)2 = 0$$,\n",
    "considere el punto inicial x0 = 3.  \n",
    "\n",
    "3. f : R → R donde la funcion f esta dada por:\n",
    "$$f (x) = (x − 2)2 − ln (x)$$,\n",
    "considere el punto inicial x0 = 1.  \n"
   ]
  },
  {
   "cell_type": "markdown",
   "metadata": {},
   "source": [
    "## 1.- Función $$f (x) = e x + 2−x + 2 cos (x) − 6$$\n",
    "considere el punto inicial x0 = 1.5. "
   ]
  },
  {
   "cell_type": "markdown",
   "metadata": {},
   "source": [
    "# Procedimiento Función 1"
   ]
  },
  {
   "cell_type": "code",
   "execution_count": 1,
   "metadata": {},
   "outputs": [],
   "source": [
    "# Importamos las funciones necesarias que empleara la función objetivo\n",
    "import math\n",
    "from math import e, cos, sin, exp, log\n",
    "\n",
    "# Procedemos a definir e inicializar las condiciones de paro del método\n",
    "tol = 1.*(10**(-15)) # Obtener un error relativo de 10^(-10)\n",
    "maxItera = 100 # Realizar máximo 100 iteraciones"
   ]
  },
  {
   "cell_type": "code",
   "execution_count": 2,
   "metadata": {},
   "outputs": [],
   "source": [
    "# Definimos la funcion objetivo\n",
    "def fx(x):\n",
    "    fx = e**x + 2**-x + (2)*cos(x) - 6\n",
    "    return fx\n",
    "\n",
    "# Definimos la derivada de la funcion objetivo\n",
    "def fxp(x):\n",
    "    fxp = -2*sin(x)+e**x-(log(2)/(2**x))\n",
    "    return fxp"
   ]
  },
  {
   "cell_type": "code",
   "execution_count": 3,
   "metadata": {},
   "outputs": [],
   "source": [
    "# Definimos el punto inicial donde comenzaremos por aplicar el método así como el indice de conteo de las\n",
    "# iteraciones y un error grande a fin de inicializar el método\n",
    "p0 = 0.5 # aproximación inicial\n",
    "k = 0 # Inicilizamos las iteraciones\n",
    "error = 10000 # Inicializamos el valor del error en un número muy grande\n",
    "pAnterior = p0 # Inicializamos la primer aproximación como b"
   ]
  },
  {
   "cell_type": "code",
   "execution_count": 4,
   "metadata": {},
   "outputs": [],
   "source": [
    "# Definimos una funcion que defina el método iterativo del punto fijo\n",
    "def itenewton(a, fx, fxp):\n",
    "    # Evaluamos para validar si ya tenemos la raíz\n",
    "    evalua = fx(a)\n",
    "    # Validamos si llegamos a las raíz\n",
    "    if evalua==0:\n",
    "        return 0, a\n",
    "    \n",
    "    else:\n",
    "        return 1, a - (fx(a) / fxp(a))"
   ]
  },
  {
   "cell_type": "code",
   "execution_count": 5,
   "metadata": {
    "scrolled": true
   },
   "outputs": [
    {
     "name": "stdout",
     "output_type": "stream",
     "text": [
      "Iniciamos el proceso iterativo\n",
      "Resultados de la iteracion 1.\n",
      "La aproximación del punto fijo se encuentra dada por 9.957275536013332.\n",
      "El valor de la función bajo la aproximación es 21097.494836383532.\n",
      "El error relativo se encuentra dado por 11.346282360345912.\n",
      "\n",
      "Resultados de la iteracion 2.\n",
      "La aproximación del punto fijo se encuentra dada por 8.957689477920594.\n",
      "El valor de la función bajo la aproximación es 7759.606232050338.\n",
      "El error relativo se encuentra dado por 21098.494422441625.\n",
      "\n",
      "Resultados de la iteracion 3.\n",
      "La aproximación del punto fijo se encuentra dada por 7.958575564877673.\n",
      "El valor de la función bajo la aproximación es 2853.791384026787.\n",
      "El error relativo se encuentra dado por 7760.60534596338.\n",
      "\n",
      "Resultados de la iteracion 4.\n",
      "La aproximación del punto fijo se encuentra dada por 6.960049645949137.\n",
      "El valor de la función bajo la aproximación es 1049.25298019114.\n",
      "El error relativo se encuentra dado por 2854.7899099457154.\n",
      "\n",
      "Resultados de la iteracion 5.\n",
      "La aproximación del punto fijo se encuentra dada por 5.963066115938139.\n",
      "El valor de la función bajo la aproximación es 384.7148316648066.\n",
      "El error relativo se encuentra dado por 1050.249963721151.\n",
      "\n",
      "Resultados de la iteracion 6.\n",
      "La aproximación del punto fijo se encuentra dada por 4.9751452037603086.\n",
      "El valor de la función bajo la aproximación es 139.3211241055978.\n",
      "El error relativo se encuentra dado por 385.70275257698444.\n",
      "\n",
      "Resultados de la iteracion 7.\n",
      "La aproximación del punto fijo se encuentra dada por 4.025309376442198.\n",
      "El valor de la función bajo la aproximación es 48.79047931172208.\n",
      "El error relativo se encuentra dado por 140.2709599329159.\n",
      "\n",
      "Resultados de la iteracion 8.\n",
      "La aproximación del punto fijo se encuentra dada por 3.1767979753412816.\n",
      "El valor de la función bajo la aproximación es 16.081700723241138.\n",
      "El error relativo se encuentra dado por 49.638990712822995.\n",
      "\n",
      "Resultados de la iteracion 9.\n",
      "La aproximación del punto fijo se encuentra dada por 2.5057099710843422.\n",
      "El valor de la función bajo la aproximación es 4.8192374564359355.\n",
      "El error relativo se encuentra dado por 16.75278872749808.\n",
      "\n",
      "Resultados de la iteracion 10.\n",
      "La aproximación del punto fijo se encuentra dada por 2.0652925122916375.\n",
      "El valor de la función bajo la aproximación es 1.1773661604463301.\n",
      "El error relativo se encuentra dado por 5.259654915228641.\n",
      "\n",
      "Resultados de la iteracion 11.\n",
      "La aproximación del punto fijo se encuentra dada por 1.8677998723558182.\n",
      "El valor de la función bajo la aproximación es 0.16271543346602524.\n",
      "El error relativo se encuentra dado por 1.3748588003821494.\n",
      "\n",
      "Resultados de la iteracion 12.\n",
      "La aproximación del punto fijo se encuentra dada por 1.8305795754823642.\n",
      "El valor de la función bajo la aproximación es 0.0049102055988479165.\n",
      "El error relativo se encuentra dado por 0.1999357303394793.\n",
      "\n",
      "Resultados de la iteracion 13.\n",
      "La aproximación del punto fijo se encuentra dada por 1.8293847997335415.\n",
      "El valor de la función bajo la aproximación es 4.912780129373573e-06.\n",
      "El error relativo se encuentra dado por 0.006104981347670568.\n",
      "\n",
      "Resultados de la iteracion 14.\n",
      "La aproximación del punto fijo se encuentra dada por 1.8293836019350518.\n",
      "El valor de la función bajo la aproximación es 4.933831121434196e-12.\n",
      "El error relativo se encuentra dado por 6.110578619100693e-06.\n",
      "\n",
      "Resultados de la iteracion 15.\n",
      "La aproximación del punto fijo se encuentra dada por 1.8293836019338487.\n",
      "El valor de la función bajo la aproximación es 0.0.\n",
      "El error relativo se encuentra dado por 6.136868790918015e-12.\n",
      "\n",
      "El punto fijo de la función se encuentra en el punto: 1.8293836019338487.\n"
     ]
    }
   ],
   "source": [
    "# Empezamos el método de newton con los datos dados\n",
    "\n",
    "# En este caso ya tenemos la raíz deseada\n",
    "if fx(p0) == 0:\n",
    "    # Se describe que existe una raíz en el punto dado previamente\n",
    "    print('Se ha encontrado el punto fijo, el cual está dado por el punto {0}.'.format(p0))\n",
    "    \n",
    "# Dado que no tenemos la raíz aún procedemos a realizar iteraciones\n",
    "else:\n",
    "    # Señalamos que iniciamos el proceso iterativo\n",
    "    print('Iniciamos el proceso iterativo')\n",
    "    \n",
    "    # Iniciamos el proceso iterativo\n",
    "    while (error > tol and k < maxItera):\n",
    "        \n",
    "        # Iteramos el proceso\n",
    "        itera = itenewton(p0, fx, fxp)\n",
    "        \n",
    "        # Validamos los casos obtenidos de la bandera, si esta es 0, se ha determinado la raíz\n",
    "        if itera[0] == 0:\n",
    "            # Describimos que hemos determinado el punto fijo y lo imprimimos\n",
    "            print('El punto fijo de la función se encuentra en el punto: {0}.'.format(itera[1]))\n",
    "            k = maxItera\n",
    "            \n",
    "        # Validamos los casos obtenidos de la bandera, si esta es 1, no se ha determinado el punto fijo\n",
    "        else:\n",
    "            # Incrementamos en 1 las iteraciones realizadas\n",
    "            k = k + 1\n",
    "            \n",
    "            # Imprimimos los resultados obtenidos de la iteracion\n",
    "            print('Resultados de la iteracion {0}.'.format(k))\n",
    "            print('La aproximación del punto fijo se encuentra dada por {0}.'.format(itera[1]))\n",
    "            print('El valor de la función bajo la aproximación es {0}.'.format(fx(itera[1])))\n",
    "            \n",
    "            # Actualizamos las variables\n",
    "            error = abs(p0 - itera[1]) + abs(fx(p0)) # Error de aproximaciones\n",
    "            p0 = itera[1]\n",
    "            \n",
    "            # Imprimimos el error\n",
    "            print('El error relativo se encuentra dado por {0}.\\n'.format(error))"
   ]
  },
  {
   "cell_type": "markdown",
   "metadata": {},
   "source": [
    "Resultados de la iteracion 15.\n",
    "La aproximación del punto fijo se encuentra dada por 1.8293836019338487.\n",
    "El valor de la función bajo la aproximación es 0.0.\n",
    "El error relativo se encuentra dado por 6.136868790918015e-12. "
   ]
  },
  {
   "cell_type": "markdown",
   "metadata": {},
   "source": [
    "## 2.- Función $$f (x) = 2x cos (2x) − (x − 2)2 = 0$$\n",
    "considere el punto inicial x0 = 3. "
   ]
  },
  {
   "cell_type": "markdown",
   "metadata": {},
   "source": [
    "# Procedimiento Función 2"
   ]
  },
  {
   "cell_type": "code",
   "execution_count": 10,
   "metadata": {},
   "outputs": [],
   "source": [
    "# Importamos las funciones necesarias que empleara la función objetivo\n",
    "import math\n",
    "from math import e, cos, sin, exp, log\n",
    "\n",
    "# Procedemos a definir e inicializar las condiciones de paro del método\n",
    "tol = 1.*(10**(-15)) # Obtener un error relativo de 10^(-10)\n",
    "maxItera = 8 # Realizar máximo 100 iteraciones"
   ]
  },
  {
   "cell_type": "code",
   "execution_count": 11,
   "metadata": {},
   "outputs": [],
   "source": [
    "# Definimos la funcion objetivo\n",
    "def fx(x):\n",
    "    fx = (2*x)*(cos(2*x))-(x-2)**2\n",
    "    return fx\n",
    "\n",
    "# Definimos la derivada de la funcion objetivo\n",
    "def fxp(x):\n",
    "    fxp = (-2*(2*x*(sin(2*x))-cos(2*x)+x-2))\n",
    "    return fxp"
   ]
  },
  {
   "cell_type": "code",
   "execution_count": 12,
   "metadata": {},
   "outputs": [],
   "source": [
    "# Definimos el punto inicial donde comenzaremos por aplicar el método así como el indice de conteo de las\n",
    "# iteraciones y un error grande a fin de inicializar el método\n",
    "p0 = 3.0 # aproximación inicial\n",
    "k = 0 # Inicilizamos las iteraciones\n",
    "error = 10000 # Inicializamos el valor del error en un número muy grande\n",
    "pAnterior = p0 # Inicializamos la primer aproximación como b"
   ]
  },
  {
   "cell_type": "code",
   "execution_count": 13,
   "metadata": {},
   "outputs": [],
   "source": [
    "# Definimos una funcion que defina el método iterativo del punto fijo\n",
    "def itenewton(a, fx, fxp):\n",
    "    # Evaluamos para validar si ya tenemos la raíz\n",
    "    evalua = fx(a)\n",
    "    # Validamos si llegamos a las raíz\n",
    "    if evalua==0:\n",
    "        return 0, a\n",
    "    \n",
    "    else:\n",
    "        return 1, a - (fx(a) / fxp(a))"
   ]
  },
  {
   "cell_type": "code",
   "execution_count": 14,
   "metadata": {},
   "outputs": [
    {
     "name": "stdout",
     "output_type": "stream",
     "text": [
      "Iniciamos el proceso iterativo\n",
      "Resultados de la iteracion 1.\n",
      "La aproximación del punto fijo se encuentra dada por 1.5455096994684976.\n",
      "El valor de la función bajo la aproximación es -3.29362879545245.\n",
      "El error relativo se encuentra dado por 6.215512020433699.\n",
      "\n",
      "Resultados de la iteracion 2.\n",
      "La aproximación del punto fijo se encuentra dada por -0.8054452667745824.\n",
      "El valor de la función bajo la aproximación es -7.805953069890386.\n",
      "El error relativo se encuentra dado por 5.6445837616955306.\n",
      "\n",
      "Resultados de la iteracion 3.\n",
      "La aproximación del punto fijo se encuentra dada por 2.5715159225409137.\n",
      "El valor de la función bajo la aproximación es 1.8203542086968691.\n",
      "El error relativo se encuentra dado por 11.182914259205882.\n",
      "\n",
      "Resultados de la iteracion 4.\n",
      "La aproximación del punto fijo se encuentra dada por 2.370122558534241.\n",
      "El valor de la función bajo la aproximación es -0.004962868802226045.\n",
      "El error relativo se encuentra dado por 2.021747572703542.\n",
      "\n",
      "Resultados de la iteracion 5.\n",
      "La aproximación del punto fijo se encuentra dada por 2.3706870165845224.\n",
      "El valor de la función bajo la aproximación es 8.70056168222888e-07.\n",
      "El error relativo se encuentra dado por 0.005527326852507536.\n",
      "\n",
      "Resultados de la iteracion 6.\n",
      "La aproximación del punto fijo se encuentra dada por 2.3706869176622645.\n",
      "El valor de la función bajo la aproximación es 2.5174307083375425e-14.\n",
      "El error relativo se encuentra dado por 9.689784261635026e-07.\n",
      "\n",
      "Resultados de la iteracion 7.\n",
      "La aproximación del punto fijo se encuentra dada por 2.370686917662262.\n",
      "El valor de la función bajo la aproximación es 1.7208456881689926e-15.\n",
      "El error relativo se encuentra dado por 2.78388423424758e-14.\n",
      "\n",
      "Resultados de la iteracion 8.\n",
      "La aproximación del punto fijo se encuentra dada por 2.370686917662262.\n",
      "El valor de la función bajo la aproximación es 1.7208456881689926e-15.\n",
      "El error relativo se encuentra dado por 1.7208456881689926e-15.\n",
      "\n"
     ]
    }
   ],
   "source": [
    "# Empezamos el método de newton con los datos dados\n",
    "\n",
    "# En este caso ya tenemos la raíz deseada\n",
    "if fx(p0) == 0:\n",
    "    # Se describe que existe una raíz en el punto dado previamente\n",
    "    print('Se ha encontrado el punto fijo, el cual está dado por el punto {0}.'.format(p0))\n",
    "    \n",
    "# Dado que no tenemos la raíz aún procedemos a realizar iteraciones\n",
    "else:\n",
    "    # Señalamos que iniciamos el proceso iterativo\n",
    "    print('Iniciamos el proceso iterativo')\n",
    "    \n",
    "    # Iniciamos el proceso iterativo\n",
    "    while (error > tol and k < maxItera):\n",
    "        \n",
    "        # Iteramos el proceso\n",
    "        itera = itenewton(p0, fx, fxp)\n",
    "        \n",
    "        # Validamos los casos obtenidos de la bandera, si esta es 0, se ha determinado la raíz\n",
    "        if itera[0] == 0:\n",
    "            # Describimos que hemos determinado el punto fijo y lo imprimimos\n",
    "            print('El punto fijo de la función se encuentra en el punto: {0}.'.format(itera[1]))\n",
    "            k = maxItera\n",
    "            \n",
    "        # Validamos los casos obtenidos de la bandera, si esta es 1, no se ha determinado el punto fijo\n",
    "        else:\n",
    "            # Incrementamos en 1 las iteraciones realizadas\n",
    "            k = k + 1\n",
    "            \n",
    "            # Imprimimos los resultados obtenidos de la iteracion\n",
    "            print('Resultados de la iteracion {0}.'.format(k))\n",
    "            print('La aproximación del punto fijo se encuentra dada por {0}.'.format(itera[1]))\n",
    "            print('El valor de la función bajo la aproximación es {0}.'.format(fx(itera[1])))\n",
    "            \n",
    "            # Actualizamos las variables\n",
    "            error = abs(p0 - itera[1]) + abs(fx(p0)) # Error de aproximaciones\n",
    "            p0 = itera[1]\n",
    "            \n",
    "            # Imprimimos el error\n",
    "            print('El error relativo se encuentra dado por {0}.\\n'.format(error))"
   ]
  },
  {
   "cell_type": "markdown",
   "metadata": {},
   "source": [
    "## 3.- Función $$f (x) = (x − 2)2 − ln (x)$$\n",
    "considere el punto inicial x0 = 1. "
   ]
  },
  {
   "cell_type": "markdown",
   "metadata": {},
   "source": [
    "# Procedimiento Función 3"
   ]
  },
  {
   "cell_type": "code",
   "execution_count": 15,
   "metadata": {},
   "outputs": [],
   "source": [
    "# Importamos las funciones necesarias que empleara la función objetivo\n",
    "import math\n",
    "from math import e, cos, sin, exp, log\n",
    "\n",
    "# Procedemos a definir e inicializar las condiciones de paro del método\n",
    "tol = 1.*(10**(-15)) # Obtener un error relativo de 10^(-10)\n",
    "maxItera = 100 # Realizar máximo 100 iteraciones"
   ]
  },
  {
   "cell_type": "code",
   "execution_count": 16,
   "metadata": {},
   "outputs": [],
   "source": [
    "# Definimos la funcion objetivo\n",
    "def fx(x):\n",
    "    fx = (x-2)**2-log(x)\n",
    "    return fx\n",
    "\n",
    "# Definimos la derivada de la funcion objetivo\n",
    "def fxp(x):\n",
    "    fxp = 2*(x-2)-(1/x)\n",
    "    return fxp"
   ]
  },
  {
   "cell_type": "code",
   "execution_count": 17,
   "metadata": {},
   "outputs": [],
   "source": [
    "# Definimos el punto inicial donde comenzaremos por aplicar el método así como el indice de conteo de las\n",
    "# iteraciones y un error grande a fin de inicializar el método\n",
    "p0 = 1.0 # aproximación inicial\n",
    "k = 0 # Inicilizamos las iteraciones\n",
    "error = 10000 # Inicializamos el valor del error en un número muy grande\n",
    "pAnterior = p0 # Inicializamos la primer aproximación como b"
   ]
  },
  {
   "cell_type": "code",
   "execution_count": 18,
   "metadata": {},
   "outputs": [],
   "source": [
    "# Definimos una funcion que defina el método iterativo del punto fijo\n",
    "def itenewton(a, fx, fxp):\n",
    "    # Evaluamos para validar si ya tenemos la raíz\n",
    "    evalua = fx(a)\n",
    "    # Validamos si llegamos a las raíz\n",
    "    if evalua==0:\n",
    "        return 0, a\n",
    "    \n",
    "    else:\n",
    "        return 1, a - (fx(a) / fxp(a))"
   ]
  },
  {
   "cell_type": "code",
   "execution_count": 19,
   "metadata": {},
   "outputs": [
    {
     "name": "stdout",
     "output_type": "stream",
     "text": [
      "Iniciamos el proceso iterativo\n",
      "Resultados de la iteracion 1.\n",
      "La aproximación del punto fijo se encuentra dada por 1.3333333333333333.\n",
      "El valor de la función bajo la aproximación es 0.15676237199266368.\n",
      "El error relativo se encuentra dado por 1.3333333333333333.\n",
      "\n",
      "Resultados de la iteracion 2.\n",
      "La aproximación del punto fijo se encuentra dada por 1.4085792718898118.\n",
      "El valor de la función bajo la aproximación es 0.007196889815886176.\n",
      "El error relativo se encuentra dado por 0.23200831054914223.\n",
      "\n",
      "Resultados de la iteracion 3.\n",
      "La aproximación del punto fijo se encuentra dada por 1.4123815640468993.\n",
      "El valor de la función bajo la aproximación es 1.8094211360342172e-05.\n",
      "El error relativo se encuentra dado por 0.01099918197297367.\n",
      "\n",
      "Resultados de la iteracion 4.\n",
      "La aproximación del punto fijo se encuentra dada por 1.4123911719625806.\n",
      "El valor de la función bajo la aproximación es 1.1544987188472078e-10.\n",
      "El error relativo se encuentra dado por 2.7702127041617786e-05.\n",
      "\n",
      "Resultados de la iteracion 5.\n",
      "La aproximación del punto fijo se encuentra dada por 1.4123911720238844.\n",
      "El valor de la función bajo la aproximación es 2.220446049250313e-16.\n",
      "El error relativo se encuentra dado por 1.7675372276926282e-10.\n",
      "\n",
      "Resultados de la iteracion 6.\n",
      "La aproximación del punto fijo se encuentra dada por 1.4123911720238846.\n",
      "El valor de la función bajo la aproximación es -2.220446049250313e-16.\n",
      "El error relativo se encuentra dado por 4.440892098500626e-16.\n",
      "\n"
     ]
    }
   ],
   "source": [
    "# Empezamos el método de newton con los datos dados\n",
    "\n",
    "# En este caso ya tenemos la raíz deseada\n",
    "if fx(p0) == 0:\n",
    "    # Se describe que existe una raíz en el punto dado previamente\n",
    "    print('Se ha encontrado el punto fijo, el cual está dado por el punto {0}.'.format(p0))\n",
    "    \n",
    "# Dado que no tenemos la raíz aún procedemos a realizar iteraciones\n",
    "else:\n",
    "    # Señalamos que iniciamos el proceso iterativo\n",
    "    print('Iniciamos el proceso iterativo')\n",
    "    \n",
    "    # Iniciamos el proceso iterativo\n",
    "    while (error > tol and k < maxItera):\n",
    "        \n",
    "        # Iteramos el proceso\n",
    "        itera = itenewton(p0, fx, fxp)\n",
    "        \n",
    "        # Validamos los casos obtenidos de la bandera, si esta es 0, se ha determinado la raíz\n",
    "        if itera[0] == 0:\n",
    "            # Describimos que hemos determinado el punto fijo y lo imprimimos\n",
    "            print('El punto fijo de la función se encuentra en el punto: {0}.'.format(itera[1]))\n",
    "            k = maxItera\n",
    "            \n",
    "        # Validamos los casos obtenidos de la bandera, si esta es 1, no se ha determinado el punto fijo\n",
    "        else:\n",
    "            # Incrementamos en 1 las iteraciones realizadas\n",
    "            k = k + 1\n",
    "            \n",
    "            # Imprimimos los resultados obtenidos de la iteracion\n",
    "            print('Resultados de la iteracion {0}.'.format(k))\n",
    "            print('La aproximación del punto fijo se encuentra dada por {0}.'.format(itera[1]))\n",
    "            print('El valor de la función bajo la aproximación es {0}.'.format(fx(itera[1])))\n",
    "            \n",
    "            # Actualizamos las variables\n",
    "            error = abs(p0 - itera[1]) + abs(fx(p0)) # Error de aproximaciones\n",
    "            p0 = itera[1]\n",
    "            \n",
    "            # Imprimimos el error\n",
    "            print('El error relativo se encuentra dado por {0}.\\n'.format(error))"
   ]
  },
  {
   "cell_type": "markdown",
   "metadata": {},
   "source": [
    "# Resultados\n",
    "\n",
    "En la primera función tenemos 15 iteraciones. Donde podemos encontrar la raíz de la ecuación que se encuentra en el punto: $1.8293836019338487$ y su error relativo es de $6.136868790918015e-12$\n",
    "\n",
    "En la segunda fución tenemos 8 iteraciones. Donde podemos encontrar la aproximación de la raíz en: $2.370686917662262$. Con un error relativo de $1.7208456881689926e-15$.\n",
    "\n",
    "En la tercera función tenemos 6 iteraciones. Donde podemos encontrar el punto aproximado de la ecuación en: $1.4123911720238846$. Con un error relativo de $4.440892098500626e-16$"
   ]
  },
  {
   "cell_type": "markdown",
   "metadata": {},
   "source": [
    "# ¿Qué aprendi?\n",
    "En la tarea 4 aprendí como utilizar el metodo de newton para obtener puntos fijos de una forma muy rapida pero poco precisa. Con este metodo es mas sencillo encontrar un punto, sin embargo su desventaja es que el error puede llegar a ser muy grande en comparación a otros metodos similares. \n",
    "\n",
    "Con los ejemplos de la tarea y la clase, el concepto del metodo de newton me quedó muy claro. \n"
   ]
  },
  {
   "cell_type": "code",
   "execution_count": null,
   "metadata": {},
   "outputs": [],
   "source": []
  }
 ],
 "metadata": {
  "kernelspec": {
   "display_name": "Python 3",
   "language": "python",
   "name": "python3"
  },
  "language_info": {
   "codemirror_mode": {
    "name": "ipython",
    "version": 3
   },
   "file_extension": ".py",
   "mimetype": "text/x-python",
   "name": "python",
   "nbconvert_exporter": "python",
   "pygments_lexer": "ipython3",
   "version": "3.8.8"
  }
 },
 "nbformat": 4,
 "nbformat_minor": 4
}
