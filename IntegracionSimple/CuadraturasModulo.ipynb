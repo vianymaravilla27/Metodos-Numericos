{
 "cells": [
  {
   "cell_type": "markdown",
   "metadata": {},
   "source": [
    "# Cuadraturas\n",
    "\n",
    "Este programa determinar las aproximaciones sobre una integral dada en un intervalo con las fórmulas de Newton - Cotes abiertas y cerradas, las cuales se muestran a continuación:\n",
    "\n",
    "Primero se muestran las cuadraturas cerradas\n",
    "\n",
    "$$n = 1\\;\\;\\; \\int_{x_0}^{x_1} f(x) dx = \\frac{h}{2} \\left(f(x_0) + f(x_1)\\right) - \\frac{h^3}{12}f^{(2)}\\left(\\xi\\right)$$\n",
    "\n",
    "$$n = 2\\;\\;\\; \\int_{x_0}^{x_2} f(x) dx = \\frac{h}{3}\\left( f(x_0) + 4f(x_1) + f(x_2)\\right) - \\frac{h^5}{90}f^{(4)}(\\xi)$$\n",
    "\n",
    "$$n = 3\\;\\;\\; \\int_{x_0}^{x_3} f(x) dx = \\frac{3h}{8}\\left( f(x_0) + 3f(x_1) + 3f(x_2) + f(x_3)\\right) - \\frac{3h^5}{80}f^{(4)}(\\xi)$$\n",
    "\n",
    "$$n = 4\\;\\;\\; \\int_{x_0}^{x_4} f(x) dx = \\frac{2h}{45}\\left( 7f(x_0) + 32f(x_1) + 12f(x_2) + 32f(x_3) + 7f(x_4)\\right) - \\frac{8h^7}{945}f^{(6)}(\\xi)$$\n",
    "\n",
    "Y las cuadraturas abiertas son:\n",
    "\n",
    "$$n = 0\\;\\;\\; \\int_{x_{-1}}^{x_1} f(x) dx = 2h f(x_0) + \\frac{h^3}{3}f^{(2)}\\left(\\xi\\right)$$\n",
    "\n",
    "$$n = 1\\;\\;\\; \\int_{x_{-1}}^{x_2} f(x) dx = \\frac{3h}{2}\\left( f(x_0) + f(x_1)\\right) + \\frac{3h^3}{4}f^{(2)}(\\xi)$$\n",
    "\n",
    "$$n = 2\\;\\;\\; \\int_{x_{-1}}^{x_3} f(x) dx = \\frac{4h}{3}\\left( 2f(x_0) - f(x_1) + 2f(x_2)\\right) + \\frac{14h^5}{45}f^{(4)}(\\xi)$$\n",
    "\n",
    "$$n = 3\\;\\;\\; \\int_{x_{-1}}^{x_4} f(x) dx = \\frac{5h}{24}\\left( 11f(x_0) + f(x_1) + f(x_2) + 11f(x_3) \\right) + \\frac{95h^5}{144}f^{(4)}(\\xi)$$"
   ]
  },
  {
   "cell_type": "code",
   "execution_count": null,
   "metadata": {},
   "outputs": [],
   "source": [
    "# En este apartado procederemos a importar las funciones necesarias para aproximar la integral\n",
    "from numpy import log, cos, sin, tan, pi"
   ]
  },
  {
   "cell_type": "code",
   "execution_count": null,
   "metadata": {},
   "outputs": [],
   "source": [
    "# Definimos ahora la función sobre la que trabajaremos\n",
    "def fx(x):\n",
    "    fx = sin(x)\n",
    "    return fx"
   ]
  },
  {
   "cell_type": "code",
   "execution_count": null,
   "metadata": {},
   "outputs": [],
   "source": [
    "# Ahora con esta función definimos los parámetros de la aproximación:\n",
    "a = 0 # Extremo izquierdo donde se aproximará la integral\n",
    "b = pi / 4 # Extremo derecho donde se aproximará la integral\n",
    "n = 1 # Numero de puntos sobre el cual aplicaremos la cuadratura"
   ]
  },
  {
   "cell_type": "code",
   "execution_count": null,
   "metadata": {},
   "outputs": [],
   "source": [
    "%run Cuadraturas.py"
   ]
  }
 ],
 "metadata": {
  "kernelspec": {
   "display_name": "Python 3",
   "language": "python",
   "name": "python3"
  },
  "language_info": {
   "codemirror_mode": {
    "name": "ipython",
    "version": 3
   },
   "file_extension": ".py",
   "mimetype": "text/x-python",
   "name": "python",
   "nbconvert_exporter": "python",
   "pygments_lexer": "ipython3",
   "version": "3.8.5"
  }
 },
 "nbformat": 4,
 "nbformat_minor": 4
}
