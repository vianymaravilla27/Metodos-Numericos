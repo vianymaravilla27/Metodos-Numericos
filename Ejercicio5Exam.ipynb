{
 "cells": [
  {
   "cell_type": "markdown",
   "metadata": {},
   "source": [
    "# Método de la Secante\n",
    "\n",
    "## Condiciones\n",
    "\n",
    "Para asegurar el buen funcionamiento del método debemos asegurar que nos encontramos cerca de la raíz, por lo que, necesitamos dos aproximaciones cercanas a la raíz.\n",
    "\n",
    "## Proceso iterativo\n",
    "\n",
    "El proceso iterativo se realiza al selecccionar dos primeras aproximaciones de la raíz y posteriormente, las siguientes aproximaciones se determinan por medio de la sucesión generada por:\n",
    "\n",
    "$$p_n = p_{n-1} - \\frac{f\\left(p_{n-1}\\right)\\left(p_{n-1}-p_{n-2}\\right)}{f\\left(p_{n-1}\\right)-f\\left(p_{n-2}\\right)}$$\n",
    "\n",
    "## Condición de paro\n",
    "\n",
    "Al igual que en los métodos anteriores podemos imponer una condición de paro en función de las aproximaciones sucesivas en términos del error absoluto y del valor de la función, es decir:\n",
    "\n",
    "$$\\left | f\\left(x_n\\right)\\right | + \\left | x_n-x_{n-1} \\right | \\leq \\varepsilon$$\n",
    "\n",
    "Esto únicamente lo aplicamos para este método debido a su velocidad de convergencia."
   ]
  },
  {
   "cell_type": "code",
   "execution_count": 1,
   "metadata": {},
   "outputs": [],
   "source": [
    "# Importamos las funciones necesarias que empleara la función objetivo\n",
    "from numpy import cos\n",
    "\n",
    "# Procedemos a definir e inicializar las condiciones de paro del método\n",
    "tol = 1.*(10**(-20)) # Obtener un error relativo de 10^(-20)\n",
    "maxItera = 100 # Realizar máximo 100 iteraciones"
   ]
  },
  {
   "cell_type": "code",
   "execution_count": 2,
   "metadata": {},
   "outputs": [],
   "source": [
    "# Definimos la funcion objetivo\n",
    "def fx(x):\n",
    "    fx = x**2- 2*cos(x) + 1\n",
    "    return fx"
   ]
  },
  {
   "cell_type": "code",
   "execution_count": 3,
   "metadata": {},
   "outputs": [],
   "source": [
    "# Definimos el punto inicial donde comenzaremos por aplicar el método así como el indice de conteo de las\n",
    "# iteraciones y un error grande a fin de inicializar el método\n",
    "p0 = 0.5 # primera aproximación\n",
    "p1 = 0.75 # segunda aproximación\n",
    "k = 0 # Inicializamos las iteraciones\n",
    "error = p1 - p0 # Inicializamos el valor del error en un número muy grande"
   ]
  },
  {
   "cell_type": "code",
   "execution_count": 4,
   "metadata": {},
   "outputs": [],
   "source": [
    "# Definimos una funcion que defina el método iterativo del punto fijo\n",
    "def itesecante(a, b, fx):\n",
    "    # Evaluamos para validar si ya tenemos la raíz\n",
    "    evalua = fx(b)\n",
    "    # Validamos si llegamos a las raíz\n",
    "    if evalua == 0:\n",
    "        return 0, b\n",
    "    else:\n",
    "        return 1, b - fx(b)*(b-a)/(fx(b)-fx(a))"
   ]
  },
  {
   "cell_type": "code",
   "execution_count": 5,
   "metadata": {},
   "outputs": [
    {
     "name": "stdout",
     "output_type": "stream",
     "text": [
      "Iniciamos el proceso iterativo\n",
      "Resultados de la iteracion 1.\n",
      "La aproximación de la raíz se encuentra dada por 0.70899209.\n",
      "El valor de la función bajo la aproximación es -0.01536719.\n",
      "El error relativo se encuentra dado por 0.056375105.\n",
      "\n",
      "Resultados de la iteracion 2.\n",
      "La aproximación de la raíz se encuentra dada por 0.71449632.\n",
      "El valor de la función bajo la aproximación es -0.00034175184.\n",
      "El error relativo se encuentra dado por 0.005845983.\n",
      "\n",
      "Resultados de la iteracion 3.\n",
      "La aproximación de la raíz se encuentra dada por 0.71462151.\n",
      "El valor de la función bajo la aproximación es 1.2379878e-06.\n",
      "El error relativo se encuentra dado por 0.00012643109.\n",
      "\n",
      "Resultados de la iteracion 4.\n",
      "La aproximación de la raíz se encuentra dada por 0.71462106.\n",
      "El valor de la función bajo la aproximación es -9.8944852e-11.\n",
      "El error relativo se encuentra dado por 4.5197101e-07.\n",
      "\n",
      "Resultados de la iteracion 5.\n",
      "La aproximación de la raíz se encuentra dada por 0.71462106.\n",
      "El valor de la función bajo la aproximación es 3.3306691e-16.\n",
      "El error relativo se encuentra dado por 3.611289e-11.\n",
      "\n",
      "Resultados de la iteracion 6.\n",
      "La aproximación de la raíz se encuentra dada por 0.71462106.\n",
      "El valor de la función bajo la aproximación es 0.0.\n",
      "El error relativo se encuentra dado por 1.110223e-16.\n",
      "\n",
      "La raíz de la ecuación se encuentra en el punto: 0.71462106.\n"
     ]
    }
   ],
   "source": [
    "# Empezamos el método de newton con los datos dados\n",
    "\n",
    "# En este caso ya tenemos la raíz deseada\n",
    "if fx(p1) == 0:\n",
    "    # Se describe que existe una raíz en el punto dado previamente\n",
    "    print('Se ha encontrado la raíz de la ecuación, la cual está dado por el punto {0}.'.format(p1))\n",
    "    \n",
    "# Dado que no tenemos la raíz aún procedemos a realizar iteraciones\n",
    "else:\n",
    "    # Señalamos que iniciamos el proceso iterativo\n",
    "    print('Iniciamos el proceso iterativo')\n",
    "    \n",
    "    # Iniciamos el proceso iterativo\n",
    "    while (error > tol and k < maxItera):\n",
    "        \n",
    "        # Iteramos el proceso\n",
    "        itera = itesecante(p0, p1, fx)\n",
    "        \n",
    "        # Validamos los casos obtenidos de la bandera, si esta es 0, se ha determinado la raíz\n",
    "        if itera[0] == 0:\n",
    "            # Describimos que hemos determinado el punto fijo y lo imprimimos\n",
    "            print('La raíz de la ecuación se encuentra en el punto: {:.8}.'.format(itera[1]))\n",
    "            k = maxItera\n",
    "            \n",
    "        # Validamos los casos obtenidos de la bandera, si esta es 1, no se ha determinado el punto fijo\n",
    "        else:\n",
    "            # Incrementamos en 1 las iteraciones realizadas\n",
    "            k = k + 1\n",
    "            \n",
    "            # Actualizamos las variables\n",
    "            error = abs(p1 - itera[1]) + abs(fx(itera[1])) # Error de aproximaciones\n",
    "            p0 = p1\n",
    "            p1 = itera[1]\n",
    "            \n",
    "            # Imprimimos los resultados obtenidos de la iteracion\n",
    "            print('Resultados de la iteracion {0}.'.format(k))\n",
    "            print('La aproximación de la raíz se encuentra dada por {:.8}.'.format(itera[1]))\n",
    "            print('El valor de la función bajo la aproximación es {:.8}.'.format(fx(itera[1])))\n",
    "            print('El error relativo se encuentra dado por {:.8}.\\n'.format(error))"
   ]
  },
  {
   "cell_type": "code",
   "execution_count": null,
   "metadata": {},
   "outputs": [],
   "source": []
  }
 ],
 "metadata": {
  "kernelspec": {
   "display_name": "Python 3",
   "language": "python",
   "name": "python3"
  },
  "language_info": {
   "codemirror_mode": {
    "name": "ipython",
    "version": 3
   },
   "file_extension": ".py",
   "mimetype": "text/x-python",
   "name": "python",
   "nbconvert_exporter": "python",
   "pygments_lexer": "ipython3",
   "version": "3.8.8"
  }
 },
 "nbformat": 4,
 "nbformat_minor": 4
}
