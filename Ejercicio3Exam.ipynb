{
 "cells": [
  {
   "cell_type": "markdown",
   "metadata": {},
   "source": [
    "# TAREA 3 \"METODOS NUMÉRICOS\"\n",
    "\n",
    "## Alumna:\n",
    "Maravilla Pérez Vianey\n",
    "## Profesor: \n",
    "Israel Sánchez Mendoza\n",
    "## Fecha de la clase:\n",
    "2/Septiembre/2021\n",
    "\n",
    "### Descripción de la tarea:  \n",
    "\n",
    "Use el método de punto fijo para determinar una raíz de la\n",
    "ecuación algebraica dada por: 𝑓(𝑥) = 𝑒\n",
    "−𝑥 + 𝑥 − 2. Es necesario garantizar la\n",
    "existencia del punto fijo y de la ecuación donde se aplicará la misma.\n",
    "Se brinda la opción de utilizar Po=1 como un punto inicial.\n",
    "\n",
    "### Procedimiento \n",
    "Verificar la existencia del punto fijo y de la ecuación donde se aplicará la raíz. Para poder encontrar el punto fijo debemos entender que tenemos un $$f(x)= e^{-x}+x-2$$\n",
    "\n",
    "y lo debemos tranformar a un g(x). El cual será: $$g(x) = -e^{-x}+2 $$\n",
    "\n",
    "Una vez encontrado sus iteraciones, debemos evaluar el resultado de la raiz en la f(x). Mientras más cerca se encuentre del valor 0.0, tendra un menor error\n",
    "\n",
    "\n",
    "\n"
   ]
  },
  {
   "cell_type": "markdown",
   "metadata": {},
   "source": [
    "# Ejecución del programa"
   ]
  },
  {
   "cell_type": "code",
   "execution_count": 30,
   "metadata": {},
   "outputs": [],
   "source": [
    "# Procedemos a definir e inicializar las condiciones de paro del método\n",
    "from math import e\n",
    "tol = 1.*(10**(-10)) # Obtener un error relativo de 10^(-10)\n",
    "maxItera = 100 # Realizar máximo 100 iteraciones"
   ]
  },
  {
   "cell_type": "code",
   "execution_count": 31,
   "metadata": {},
   "outputs": [],
   "source": [
    "# Definimos la funcion objetivo\n",
    "def fx(x):\n",
    "    fx = ((-e**-x)+2) #Definimos la g(x)\n",
    "    return fx"
   ]
  },
  {
   "cell_type": "code",
   "execution_count": 32,
   "metadata": {},
   "outputs": [],
   "source": [
    "# Definimos el punto inicial donde comenzaremos por aplicar el método así como el indice de conteo de las\n",
    "# iteraciones y un error grande a fin de inicializar el método\n",
    "p0 = 1.74 # aproximación inicial en 1\n",
    "k = 0 # Inicilizamos las iteraciones\n",
    "error = 10000 # Inicializamos el valor del error en un número muy grande\n",
    "pAnterior = p0 # Inicializamos la primer aproximación como b"
   ]
  },
  {
   "cell_type": "code",
   "execution_count": 33,
   "metadata": {},
   "outputs": [],
   "source": [
    "# Definimos una funcion que defina el método iterativo del punto fijo\n",
    "def itepuntofijo(pActual,fx):\n",
    "    # Generamos la siguiente aproximacion\n",
    "    pNuevo = fx(pActual)\n",
    "    # Validamos las condiciones y si llegamos a las raices\n",
    "    if pNuevo == pActual:\n",
    "        return 0, pActual\n",
    "    else:\n",
    "        return 1, pNuevo"
   ]
  },
  {
   "cell_type": "code",
   "execution_count": 34,
   "metadata": {},
   "outputs": [
    {
     "name": "stdout",
     "output_type": "stream",
     "text": [
      "Iniciamos el proceso iterativo\n",
      "Resultados de la iteracion 1.\n",
      "La aproximación del punto fijo se encuentra dada por 1.8244795993830032.\n",
      "El valor de la función bajo la aproximación es 1.8386984362747365.\n",
      "El error relativo se encuentra dado por 0.01421883689173331.\n",
      "\n",
      "Resultados de la iteracion 2.\n",
      "La aproximación del punto fijo se encuentra dada por 1.8386984362747365.\n",
      "El valor de la función bajo la aproximación es 1.840975728310166.\n",
      "El error relativo se encuentra dado por 0.002277292035429479.\n",
      "\n",
      "Resultados de la iteracion 3.\n",
      "La aproximación del punto fijo se encuentra dada por 1.840975728310166.\n",
      "El valor de la función bajo la aproximación es 1.8413374609757356.\n",
      "El error relativo se encuentra dado por 0.00036173266556960293.\n",
      "\n",
      "Resultados de la iteracion 4.\n",
      "La aproximación del punto fijo se encuentra dada por 1.8413374609757356.\n",
      "El valor de la función bajo la aproximación es 1.8413948440196164.\n",
      "El error relativo se encuentra dado por 5.7383043880809836e-05.\n",
      "\n",
      "Resultados de la iteracion 5.\n",
      "La aproximación del punto fijo se encuentra dada por 1.8413948440196164.\n",
      "El valor de la función bajo la aproximación es 1.841403945005118.\n",
      "El error relativo se encuentra dado por 9.100985501664383e-06.\n",
      "\n",
      "Resultados de la iteracion 6.\n",
      "La aproximación del punto fijo se encuentra dada por 1.841403945005118.\n",
      "El valor de la función bajo la aproximación es 1.8414053883789472.\n",
      "El error relativo se encuentra dado por 1.4433738291241838e-06.\n",
      "\n",
      "Resultados de la iteracion 7.\n",
      "La aproximación del punto fijo se encuentra dada por 1.8414053883789472.\n",
      "El valor de la función bajo la aproximación es 1.8414056172900937.\n",
      "El error relativo se encuentra dado por 2.2891114648260213e-07.\n",
      "\n",
      "Resultados de la iteracion 8.\n",
      "La aproximación del punto fijo se encuentra dada por 1.8414056172900937.\n",
      "El valor de la función bajo la aproximación es 1.8414056535941117.\n",
      "El error relativo se encuentra dado por 3.630401801402172e-08.\n",
      "\n",
      "Resultados de la iteracion 9.\n",
      "La aproximación del punto fijo se encuentra dada por 1.8414056535941117.\n",
      "El valor de la función bajo la aproximación es 1.8414056593517234.\n",
      "El error relativo se encuentra dado por 5.7576117207247535e-09.\n",
      "\n",
      "Resultados de la iteracion 10.\n",
      "La aproximación del punto fijo se encuentra dada por 1.8414056593517234.\n",
      "El valor de la función bajo la aproximación es 1.841405660264848.\n",
      "El error relativo se encuentra dado por 9.131246869742426e-10.\n",
      "\n",
      "Resultados de la iteracion 11.\n",
      "La aproximación del punto fijo se encuentra dada por 1.841405660264848.\n",
      "El valor de la función bajo la aproximación es 1.8414056604096645.\n",
      "El error relativo se encuentra dado por 1.448163811090808e-10.\n",
      "\n",
      "Resultados de la iteracion 12.\n",
      "La aproximación del punto fijo se encuentra dada por 1.8414056604096645.\n",
      "El valor de la función bajo la aproximación es 1.8414056604326317.\n",
      "El error relativo se encuentra dado por 2.2967183710420613e-11.\n",
      "\n"
     ]
    }
   ],
   "source": [
    "\n",
    "if fx(pAnterior) == 0:\n",
    "    print('Se ha encontrado el punto fijo, el cual está dado por el punto {0}.'.format(pAnterior))\n",
    "\n",
    "else:\n",
    "    print('Iniciamos el proceso iterativo')\n",
    "    \n",
    "    while (error > tol and k < maxItera):\n",
    "        \n",
    "        # Iteramos el proceso\n",
    "        itera = itepuntofijo(p0,fx)\n",
    "        \n",
    "        # Validamos los casos obtenidos de la bandera, si esta es 0, se ha determinado el punto fijo\n",
    "        if itera[0] == 0:\n",
    "            # Describimos que hemos determinado el punto fijo y lo imprimimos\n",
    "            print('El punto fijo de la función se encuentra en el punto: {0}.'.format(itera[1]))\n",
    "            \n",
    "        # Validamos los casos obtenidos de la bandera, si esta es 1, no se ha determinado el punto fijo\n",
    "        else:\n",
    "            # Incrementamos en 1 las iteraciones realizadas\n",
    "            k = k + 1\n",
    "            \n",
    "            # Imprimimos los resultados obtenidos de la iteracion\n",
    "            print('Resultados de la iteracion {0}.'.format(k))\n",
    "            print('La aproximación del punto fijo se encuentra dada por {0}.'.format(itera[1]))\n",
    "            print('El valor de la función bajo la aproximación es {0}.'.format(fx(itera[1])))\n",
    "            \n",
    "            # Actualizamos las variables\n",
    "            p0 = itera[1]\n",
    "            error = abs(fx(p0) - p0) # Error relativo de aproximaciones\n",
    "            \n",
    "            # Imprimimos el error\n",
    "            print('El error relativo se encuentra dado por {0}.\\n'.format(error))"
   ]
  },
  {
   "cell_type": "code",
   "execution_count": 29,
   "metadata": {},
   "outputs": [
    {
     "data": {
      "text/plain": [
       "3.0816238449915545e-11"
      ]
     },
     "execution_count": 29,
     "metadata": {},
     "output_type": "execute_result"
    }
   ],
   "source": [
    "# Validamos la raíz en la ecuación algebraica\n",
    "(e**-p0 + p0 - 2)"
   ]
  },
  {
   "cell_type": "markdown",
   "metadata": {},
   "source": [
    "# Resultado\n",
    "Nos encontramos con una raíz final de $1.841405660376703$. O bien un numero con la comprobación de $-0.000000000050700998954766874$. Donde nos encontramos con un error relativamente bajo y podemos conocer su raíz."
   ]
  },
  {
   "cell_type": "markdown",
   "metadata": {},
   "source": [
    "# ¿Qué Aprendí?\n",
    "Mediante el desarrollo de la tarea aprendí a como aplicar el metodo de punto fijo de forma correcta, desde el metodo aritmético, así como aplicado en Python. \n",
    "\n",
    "Sabiendo que este metodo aplica un proceso iterativo hasta encontrar una raíz con un valor de error bajo previamente establecido por el usuario. \n",
    "\n",
    "Descubrí que igualmente es un metodo confiable, pues tiene un error relativamente pequeño comparado con otros metodos. Aunque sea lento, termina siendo de los mas confiables. "
   ]
  }
 ],
 "metadata": {
  "kernelspec": {
   "display_name": "Python 3",
   "language": "python",
   "name": "python3"
  },
  "language_info": {
   "codemirror_mode": {
    "name": "ipython",
    "version": 3
   },
   "file_extension": ".py",
   "mimetype": "text/x-python",
   "name": "python",
   "nbconvert_exporter": "python",
   "pygments_lexer": "ipython3",
   "version": "3.8.8"
  }
 },
 "nbformat": 4,
 "nbformat_minor": 4
}
