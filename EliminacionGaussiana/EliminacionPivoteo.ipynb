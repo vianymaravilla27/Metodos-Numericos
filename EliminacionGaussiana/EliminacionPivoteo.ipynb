{
 "cells": [
  {
   "cell_type": "markdown",
   "metadata": {},
   "source": [
    "# Sistemas de ecuaciones lineales\n",
    "\n",
    "Considere un sistema de ecuaciones lineales conformado por $n$ ecuaciones:\n",
    "\n",
    "\\begin{equation}\n",
    "\t\\begin{split}\n",
    "\t\ta_{11}x_{1} + a_{12}x_{2} + a_{13}x_{3} + \\cdots + a_{1n}x_{n} & = b_{1} \\\\\n",
    "\t\ta_{21}x_{1} + a_{22}x_{2} + a_{23}x_{3} + \\cdots + a_{2n}x_{n} & = b_{2} \\\\\n",
    "\t\ta_{31}x_{1} + a_{32}x_{2} + a_{33}x_{3} + \\cdots + a_{3n}x_{n} & = b_{3} \\\\\n",
    "\t\t\\vdots \\;\\;\\;\\;\\;\\;\\;\\;\\;\\;\\;\\vdots\\;\\;\\;\\;\\;\\;\\;\\;\\;\\;\\;\\vdots\\;\\;\\;\\;\\;\\;\\;\\vdots\\;\\;\\;\\;\\;\\;\\;\\;\\; \\vdots\\;\\;\\;\\;\\;\\; & \\;\\;\\;\\;\\;\\vdots \\\\\n",
    "\t\ta_{n1}x_{1}+a_{n2}x_{2}+a_{n3}x_{3}+\\cdot+a_{nn}x_{n} & = b_{n} \\\\\n",
    "\t\\end{split}\n",
    "\\end{equation}\n",
    "\n",
    "\n",
    "Donde $\\forall i,j = 1,2,3,\\dots,n,\\;\\;a_{ij}\\in\\mathbb{R};\\;\\;\\;\\forall i = 1,2,3,\\dots,n,\\;\\;b_{i}\\in\\mathbb{R}$, es decir, los coeficientes del sistema son números reales.\n",
    "\n",
    "\n",
    "Para resolverlo procederemos a conformar la forma matricial\n",
    "\n",
    "\n",
    "\\begin{equation*}\n",
    "\t\\left[ \\begin{array}{ccccc|c}\n",
    "\ta_{11} &  a_{12} & a_{13} & \\cdots & a_{1n} & b_{1}\\\\\n",
    "\ta_{21} &  a_{22} & a_{23} & \\cdots & a_{2n} & b_{2}\\\\\n",
    "\ta_{31} &  a_{32} & a_{33} & \\cdots & a_{3n} & b_{3}\\\\\n",
    "\t\\vdots &  \\vdots  & \\vdots  & \\vdots & \\vdots  & \\vdots\\\\\n",
    "\ta_{n1} &  a_{n2} & a_{n3} & \\cdots & a_{nn} & b_{n}\\\\\n",
    "\t\\end{array} \\right] \n",
    "\\end{equation*}\n",
    "\n",
    "\n",
    "El cual se basa en las operaciones:\n",
    "\n",
    "\n",
    "1. Multiplicar la ecuación $i$ - ésima por una constante $\\lambda$ y reemplazarla por la original, es decir, $\\lambda E_{i}\\to E_{i}$.\n",
    "\n",
    "\n",
    "\n",
    "2. Adicionar el múltiplo de la ecuación $j$ - ésima a la ecuación $i$ - ésima y reemplazarla por la original, es decir, $E_{j}+\\lambda E_{i}\\to E_{j}$.\n",
    "\n",
    "\n",
    "\n",
    "3. Intercambiar el orden de las ecuaciones, es decir, $E_{i}\\iff E_{j} $.\n",
    "\n",
    "\n",
    "Ahora en vez de tomar el pivote común, aplicaremos la técnica de **pivote parcial**, la cual se encuentra dada por:\n",
    "\n",
    "\n",
    "\\begin{equation}\n",
    "\t\\left| a_{pk}^{(k)} \\right| = \\max_{k \\leq i \\leq n} \\left| a_{ik}^{(k)} \\right|,\n",
    "\\end{equation}"
   ]
  },
  {
   "cell_type": "code",
   "execution_count": 3,
   "metadata": {},
   "outputs": [],
   "source": [
    "# Importamos la libreria de numpy para manipular arreglos y álgebra lineal\n",
    "from numpy import array, zeros\n",
    "import numpy as np\n",
    "\n",
    "# Importamos la función señalada del determinante\n",
    "from numpy.linalg import det, solve"
   ]
  },
  {
   "cell_type": "code",
   "execution_count": 6,
   "metadata": {},
   "outputs": [],
   "source": [
    "# Definimos la matriz con la que estaremos trabajando\n",
    "# A = array([[1, 2, -1, 3, -8], [2, 0, 2, -1, 13], [-1, 1, 1, -1, 8], [3, 3, -1, 2, -1]], dtype = float)\n",
    "# B = array([[1, 2, -1, 3, -8], [2, 0, 2, -1, 13], [-1, 1, 1, -1, 8], [3, 3, -1, 2, -1]], dtype = float)\n",
    "A = array([[0.00300000, 59.14000000, 59.17000000], [5.29100000, -6.13000000, 46.78000000]])\n",
    "B = array([[0.00300000, 59.14000000, 59.17000000], [5.29100000, -6.13000000, 46.78000000]])"
   ]
  },
  {
   "cell_type": "code",
   "execution_count": 7,
   "metadata": {},
   "outputs": [
    {
     "name": "stdout",
     "output_type": "stream",
     "text": [
      "La matriz aumentada con la que trabajaremos es: \n",
      " [[ 3.000e-03  5.914e+01  5.917e+01]\n",
      " [ 5.291e+00 -6.130e+00  4.678e+01]] \n",
      "\n",
      "La matriz resultado del proceso de eliminación es: \n",
      " [[ 5.291      -6.13       46.78      ]\n",
      " [ 0.         59.14347571 59.14347571]] \n",
      "\n",
      "El vector solución es: \n",
      " [10.  1.]\n"
     ]
    }
   ],
   "source": [
    "# Validamos que la matriz es invertible\n",
    "\n",
    "# Calculamos el tamaño del sistema\n",
    "n = len(A)\n",
    "\n",
    "if (det(A[:,:n]) != 0 and abs(det(A[:,:n])) > 10 ** (-5)):\n",
    "\n",
    "    # Imprimimos la matriz aumentada\n",
    "    print('La matriz aumentada con la que trabajaremos es: \\n', A, '\\n')\n",
    "\n",
    "    # Ahora identificamos como se debe proceder para reducir la matriz para la siguiente fila\n",
    "\n",
    "    # Tomamos la fila para pivote de eliminación hacía abajo\n",
    "    for j in range(n):\n",
    "        \n",
    "        # Pivote inicial\n",
    "        pivote = j\n",
    "        \n",
    "        # Determinamos el elemento de pivote\n",
    "        for k in range(j+1, n):\n",
    "            \n",
    "            # Determinamos si es mayor al elemento\n",
    "            if A[k,j] > A[pivote, j] :\n",
    "                \n",
    "                # Actualizamos el pivote\n",
    "                pivote = k\n",
    "                \n",
    "            # Auxiliar para el cambio\n",
    "            cambio = A[j, :].copy()\n",
    "\n",
    "            # Cambiamos lineas\n",
    "            A[j, :] = A[pivote, :].copy()\n",
    "            A[pivote, :] = cambio.copy()\n",
    "        \n",
    "        # Eliminamos las bajo la fila pivote\n",
    "        for i in range(j+1, n):\n",
    "            \n",
    "            # Determinamos el coeficiente a aplicar en cada fila\n",
    "            coef = A[i,j] / A[j,j]\n",
    "\n",
    "            # Realizamos la eliminación\n",
    "            A[i,:] = A[i,:] - coef * A[j,:]\n",
    "                \n",
    "    # Imprimimos la matriz resultado del sistema de ecuaciones\n",
    "    print('La matriz resultado del proceso de eliminación es: \\n', A, '\\n')\n",
    "    \n",
    "    # Iniciamos el proceso de sustitución hacía atrás\n",
    "    \n",
    "    # Creamos una lista para los coeficientes\n",
    "    x = zeros(n)\n",
    "\n",
    "    # Primero determinamos el último coeficiente\n",
    "    x[n-1] = A[n-1, n] / A[n-1, n-1]\n",
    "    \n",
    "    # Para los coeficientes restantes debemos aplicar el proceso de sustitución hacía atrás\n",
    "    for i in range(n-1,-1,-1):\n",
    "\n",
    "        # Tomamos el valor del vector columna de la matriz aumentada\n",
    "        b = A[i, n]\n",
    "\n",
    "        # Comenzamos el proceso de sustitucion hacia atras\n",
    "        for j in range(i+1, n):\n",
    "            b = b - A[i,j] * x[j]\n",
    "\n",
    "        # Realizamos el cociente\n",
    "        x[i] = b / A[i,i]\n",
    "    \n",
    "    # Imprimimos el vector solución\n",
    "    print('El vector solución es: \\n', x)\n",
    "    \n",
    "else:\n",
    "    \n",
    "    print('La matriz no tiene solución única')"
   ]
  },
  {
   "cell_type": "code",
   "execution_count": 8,
   "metadata": {},
   "outputs": [
    {
     "data": {
      "text/plain": [
       "array([10.,  1.])"
      ]
     },
     "execution_count": 8,
     "metadata": {},
     "output_type": "execute_result"
    }
   ],
   "source": [
    "# Validemos el valor con el método directo de python\n",
    "solve(B[:,:n], B[:,n]) # Ax = b"
   ]
  },
  {
   "cell_type": "code",
   "execution_count": null,
   "metadata": {},
   "outputs": [],
   "source": []
  }
 ],
 "metadata": {
  "kernelspec": {
   "display_name": "Python 3",
   "language": "python",
   "name": "python3"
  },
  "language_info": {
   "codemirror_mode": {
    "name": "ipython",
    "version": 3
   },
   "file_extension": ".py",
   "mimetype": "text/x-python",
   "name": "python",
   "nbconvert_exporter": "python",
   "pygments_lexer": "ipython3",
   "version": "3.8.5"
  }
 },
 "nbformat": 4,
 "nbformat_minor": 4
}
