{
 "cells": [
  {
   "cell_type": "markdown",
   "metadata": {},
   "source": [
    "# Método de Runge Kutta de orden superior\n",
    "\n",
    "Recordemos que el método de Taylor de orden superior se obtiene al generar la aproximación con el teorema de Taylor de orden $n$ en el problema de valores iniciales, por lo anterior, considere el siguiente problema de valores iniciales:\n",
    "<p>&nbsp;</p>\n",
    "\\begin{equation}\n",
    "\ty' = f(t,y),\\;\\;\\; a\\leq t \\leq b,\\;\\;\\; y(a) = \\alpha,\n",
    "\\end{equation}\n",
    "<p>&nbsp;</p>\n",
    "Si definimos $w(t_i) \\approx y(t_i)$ obtenemos entonces el método de Runge - Kutta de orden 3:\n",
    "\n",
    "<p>&nbsp;</p>\n",
    "\\begin{equation}\n",
    "\t\\begin{split}\n",
    "\t\tw_0 & = \\alpha \\\\\n",
    "\t\tw_{i+1} & = w_i + \\frac{h}{4} \\left[f(t_i, w_i) + 3 f\\left(t_{i} + \\frac{2h}{3} , w_i + \\frac{2h}{3} f\\left(t_i + \\frac{h}{3}, w_i + \\frac{h}{3} f(t_i, w_i)\\right)\\right)\\right],\\;\\; i = 0, 1, \\dots, N-1, \\\\\n",
    "\t\\end{split}\n",
    "\\end{equation}\n",
    "<p>&nbsp;</p>\n",
    "Ahora también incorporaremos el método de Runge - Kutta de orden 4, el cual se encuentra dado por:\n",
    "donde se obtiene que:\n",
    "<p>&nbsp;</p>\n",
    "\\begin{equation}\n",
    "\t\\begin{split}\n",
    "\t\tw_0 & = \\alpha \\\\\n",
    "        k_1 & = h f(t_i, w_i) \\\\\n",
    "        k_2 & = h f\\left(t_i + \\frac{h}{2}, w_i + \\frac{1}{2} k_1\\right) \\\\\n",
    "        k_3 & = h f\\left(t_i + \\frac{h}{2}, w_i + \\frac{1}{2} k_2\\right) \\\\\n",
    "        k_4 & = h f(t_{i+1}, w_i + k_3) \\\\\n",
    "\t\tw_{i+1} & = w_i + \\frac{h}{6} \\left(k_1 + 2k_2 + 2k_3 + k_4\\right),\\;\\; i = 0, 1, \\dots, N-1, \\\\\n",
    "\t\\end{split}\n",
    "\\end{equation}"
   ]
  },
  {
   "cell_type": "code",
   "execution_count": null,
   "metadata": {},
   "outputs": [],
   "source": [
    "# Importamos las librerias y funciones necesarias para replicar el método\n",
    "import numpy as np\n",
    "from numpy import exp"
   ]
  },
  {
   "cell_type": "code",
   "execution_count": null,
   "metadata": {},
   "outputs": [],
   "source": [
    "# Determinamos los parámetros donde trabajaremos\n",
    "a = 0 # Punto inicial\n",
    "b = 2 # Punto final\n",
    "ci = 2 # Condicion inicial\n",
    "n = 10 # Número de pasos"
   ]
  },
  {
   "cell_type": "code",
   "execution_count": null,
   "metadata": {},
   "outputs": [],
   "source": [
    "# Definimos cadenas auxiliares para impresión de pantalla\n",
    "punto = 'Punto'\n",
    "aproxima = 'Aproximacion'\n",
    "real = 'Real'\n",
    "error = 'Error Absoluto'"
   ]
  },
  {
   "cell_type": "code",
   "execution_count": null,
   "metadata": {},
   "outputs": [],
   "source": [
    "# Definimos la función f(t,y)\n",
    "def fty(t,y):\n",
    "    fty = 2 * y + exp(2 * t)\n",
    "    return fty"
   ]
  },
  {
   "cell_type": "code",
   "execution_count": null,
   "metadata": {},
   "outputs": [],
   "source": [
    "# Determinamos el tamaño de salto\n",
    "h = (b - a) / n"
   ]
  },
  {
   "cell_type": "code",
   "execution_count": null,
   "metadata": {},
   "outputs": [],
   "source": [
    "# Generamos el arreglo de puntos y de aproximaciones donde trabajaremos\n",
    "aprox = np.empty((2,n+1))\n",
    "\n",
    "# La primer dimensión tendra los puntos donde trabajaremos, es decir, los puntos de la malla\n",
    "aprox[0,:] = np.arange(a,b + h, h)\n",
    "\n",
    "# Imprimimos la primer dimensión a fin de validar los resultados:\n",
    "print(aprox[0,:])"
   ]
  },
  {
   "cell_type": "code",
   "execution_count": null,
   "metadata": {},
   "outputs": [],
   "source": [
    "# Definimos la función T^(3)\n",
    "def rungeK3(t, w, h):\n",
    "    k = h / 3\n",
    "    rungeK3 = fty(t, w) + 3 * fty(t + 2 * k, w + 2 * k * fty(t + k, w + k * fty(t, w)))\n",
    "    return rungeK3"
   ]
  },
  {
   "cell_type": "code",
   "execution_count": null,
   "metadata": {},
   "outputs": [],
   "source": [
    "# Definimos la función T^(4)\n",
    "def rungeK4(t, w, h):\n",
    "    k1 = h * fty(t, w)\n",
    "    k2 = h * fty(t + h / 2, w + k1 / 2)\n",
    "    k3 = h * fty(t + h / 2, w + k2 / 2)\n",
    "    k4 = h * fty(t + h, w + k3)\n",
    "    rungeK4 = k1 + 2 * k2 + 2 * k3 + k4\n",
    "    return rungeK4"
   ]
  },
  {
   "cell_type": "code",
   "execution_count": null,
   "metadata": {},
   "outputs": [],
   "source": [
    "# Determinamos los valores exactos y los error de aproximacion\n",
    "# Primero definimos la solución real\n",
    "def ftyR(t):\n",
    "    ftyR = exp(2 * t) * (t + 2)\n",
    "    return ftyR"
   ]
  },
  {
   "cell_type": "code",
   "execution_count": null,
   "metadata": {},
   "outputs": [],
   "source": [
    "# Comenzamos a determinar las aproximaciones\n",
    "\n",
    "# Asignamos la primer aproximación, la cual corresponde a la condicion inicial\n",
    "aprox[1,0] = ci\n",
    "\n",
    "# Comenzamos el proceso iterativo\n",
    "for i in range(1,n+1):\n",
    "    aprox[1,i] = aprox[1,i-1] + (h / 4) * rungeK3(aprox[0,i-1], aprox[1,i-1], h)\n",
    "\n",
    "# Creamos el arreglo donde trabajaremos\n",
    "resumen = np.empty((4,n+1))\n",
    "\n",
    "# Asignamos los puntos donde trabajamos y los valores aproximados\n",
    "resumen[0:2,:] = aprox.copy()\n",
    "\n",
    "# Asignamos los valores reales\n",
    "resumen[2,:] = ftyR(aprox[0,:])\n",
    "\n",
    "# Determinamos el error de aproximación\n",
    "resumen[3,:] = abs(resumen[2,:].copy() - aprox[1,:].copy())"
   ]
  },
  {
   "cell_type": "code",
   "execution_count": null,
   "metadata": {},
   "outputs": [],
   "source": [
    "# Imprimimos los resultados obtenidos\n",
    "print('La aproximacion obtenida se encuentra dada por:')\n",
    "\n",
    "# Titulos de la tabla\n",
    "print(f'{punto:15}   {aproxima:15}  {real:15}  {error:15}')\n",
    "\n",
    "for i in range(n+1):\n",
    "    print('{0:15}   {1:15}   {2:15}   {3:15}'.format(round(resumen[0,i],8), round(resumen[1,i],8), round(resumen[2,i],8), round(resumen[3,i],8)))"
   ]
  },
  {
   "cell_type": "code",
   "execution_count": null,
   "metadata": {},
   "outputs": [],
   "source": [
    "# Comenzamos a determinar las aproximaciones\n",
    "\n",
    "# Asignamos la primer aproximación, la cual corresponde a la condicion inicial\n",
    "aprox[1,0] = ci\n",
    "\n",
    "# Comenzamos el proceso iterativo\n",
    "for i in range(1,n+1):\n",
    "    aprox[1,i] = aprox[1,i-1] + (1 / 6) * rungeK4(aprox[0,i-1], aprox[1,i-1], h)\n",
    "\n",
    "# Creamos el arreglo donde trabajaremos\n",
    "resumen = np.empty((4,n+1))\n",
    "\n",
    "# Asignamos los puntos donde trabajamos y los valores aproximados\n",
    "resumen[0:2,:] = aprox.copy()\n",
    "\n",
    "# Asignamos los valores reales\n",
    "resumen[2,:] = ftyR(aprox[0,:])\n",
    "\n",
    "# Determinamos el error de aproximación\n",
    "resumen[3,:] = abs(resumen[2,:].copy() - aprox[1,:].copy())"
   ]
  },
  {
   "cell_type": "code",
   "execution_count": null,
   "metadata": {},
   "outputs": [],
   "source": [
    "# Imprimimos los resultados obtenidos\n",
    "print('La aproximacion obtenida se encuentra dada por:')\n",
    "\n",
    "# Titulos de la tabla\n",
    "print(f'{punto:15}   {aproxima:15}  {real:15}  {error:15}')\n",
    "\n",
    "for i in range(n+1):\n",
    "    print('{0:15}   {1:15}   {2:15}   {3:15}'.format(round(resumen[0,i],8), round(resumen[1,i],8), round(resumen[2,i],8), round(resumen[3,i],8)))"
   ]
  }
 ],
 "metadata": {
  "kernelspec": {
   "display_name": "Python 3",
   "language": "python",
   "name": "python3"
  },
  "language_info": {
   "codemirror_mode": {
    "name": "ipython",
    "version": 3
   },
   "file_extension": ".py",
   "mimetype": "text/x-python",
   "name": "python",
   "nbconvert_exporter": "python",
   "pygments_lexer": "ipython3",
   "version": "3.8.5"
  }
 },
 "nbformat": 4,
 "nbformat_minor": 4
}
