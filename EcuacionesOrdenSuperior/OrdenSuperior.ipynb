{
 "cells": [
  {
   "cell_type": "markdown",
   "metadata": {},
   "source": [
    "# Problema de valores iniciales\n",
    "\n",
    "Considere un **problema de valores iniciales de orden $m$**, el cual se encuentra dado por:\n",
    "\n",
    "\\begin{equation}\n",
    "\ty^{(m)}(t) = f(t, y, y', y'', \\dots, y^{(m-1)}),\\;\\;\\;\\;\\;\\; a \\leq t \\leq b,\n",
    "\\end{equation}\n",
    "\n",
    "\n",
    "con las condiciones iniciales siguientes:\n",
    "\n",
    "\n",
    "\\begin{equation}\n",
    "\ty(a) = \\alpha_1,\\;\\;\\;y'(a) = \\alpha_2,\\;\\;\\;y''(a) = \\alpha_3,\\;\\;\\;\\cdots,\\;\\;\\; y^{(m-1)}(a) = \\alpha_m.\n",
    "\\end{equation}\n",
    "\n",
    "\n",
    "La cual puede ser convertida en un sistema de ecuaciones diferenciales de orden $m$, el cual se presenta a continuación:\n",
    "\n",
    "\n",
    "\\begin{equation}\n",
    "\t\\begin{split}\n",
    "\t\t\\frac{du_1}{dt} & = \\frac{dy}{dt} = u_2(t) \\\\\n",
    "\t\t\\frac{du_2}{dt} & = \\frac{dy'}{dt} = u_3(t) \\\\\n",
    "\t\t\\frac{du_3}{dt} & = \\frac{dy''}{dt} = u_4(t) \\\\\n",
    "\t\t\\;\\;\\;\\;\\vdots\\;\\;\\; & \\;\\;\\;\\;\\;\\;\\;\\;\\vdots\\;\\;\\;\\;\\;\\;\\;\\;\\;\\;\\;\\;\\;\\;\\;\\;\\vdots\\;\\;\\;\\; \\\\\n",
    "\t\t\\frac{du_m}{dt} & = \\frac{dy^{(m-1)}}{dt} = y^{(m)} =  f(t, y, y', y'', \\dots, y^{(m-1)}) = f(t, u_1, u_2, u_3, \\dots, u_m) \\\\\n",
    "\t\\end{split}\n",
    "\\end{equation}\n",
    "\n",
    "\n",
    "con las condiciones iniciales siguientes:\n",
    "\n",
    "\n",
    "\\begin{equation}\n",
    "\ty(a) = u_1(a) = \\alpha_1,\\;\\;\\;y'(a) = u_2(a) = \\alpha_2,\\;\\;\\;\\cdots,\\;\\;\\; y^{(m-1)}(a) = u_m(a) = \\alpha_m.\n",
    "\\end{equation}\n",
    "\n",
    "\n",
    "Para lo anterior consideraremos un ejemplo\n",
    "\n",
    "## Ejemplo 1\n",
    "\n",
    "\n",
    "Transforme el problema de valores iniciales de segundo orden siguiente:\n",
    "\n",
    "\n",
    "\\begin{equation*}\n",
    "\ty'' - 2y' + 2y = e^{2t} \\sin(t)\\;\\;\\;\\;\\; 0 \\leq t \\leq 1,\\;\\;\\;\\; y(0) = -0.4,\\;\\;\\; y'(0) = -0.6.\n",
    "\\end{equation*}\n",
    "\n",
    "\n",
    "Posteriormente aproxime la solución mediante el método de Runge - Kutta con $h = 0.1$.\n",
    "\n",
    "\n",
    "Por lo anterior, tenemos el sistema de ecuaciones siguiente:\n",
    "\n",
    "\n",
    "\\begin{equation}\n",
    "\t\\begin{split}\n",
    "\t\t\\frac{dy_1}{dt} & = y_2(t) \\\\\n",
    "\t\t\\frac{dy_2}{dt} & = 2y_2(t) - 2y_1(t) + e^{2t}\\sin(t) \\\\\n",
    "\t\\end{split}\n",
    "\\end{equation}\n",
    "\n",
    "\n",
    "con las condiciones iniciales siguientes $y_1(0) = -0.4$ y $y_2(t) = -0.6$."
   ]
  },
  {
   "cell_type": "code",
   "execution_count": null,
   "metadata": {},
   "outputs": [],
   "source": [
    "# Importamos las librerias y funciones necesarias para replicar el método\n",
    "import numpy as np\n",
    "from numpy import exp, sin, cos"
   ]
  },
  {
   "cell_type": "code",
   "execution_count": null,
   "metadata": {},
   "outputs": [],
   "source": [
    "# Determinamos los parámetros donde trabajaremos\n",
    "a = 0 # Punto inicial\n",
    "b = 1 # Punto final\n",
    "n = 10 # Número de pasos\n",
    "m = 2 # Número de ecuaciones en el sistema\n",
    "\n",
    "# Condiciones iniciales\n",
    "w10 = -0.4 # Condicion inicial en y_1\n",
    "w20 = -0.6 # Condicion inicial en y_2"
   ]
  },
  {
   "cell_type": "code",
   "execution_count": null,
   "metadata": {},
   "outputs": [],
   "source": [
    "# Definimos cadenas auxiliares para impresión de pantalla\n",
    "punto = 'Punto'\n",
    "aproxima1 = 'Aprox y1'\n",
    "aproxima2 = 'Aprox y2'\n",
    "real1 = 'Real y1'\n",
    "real2 = 'Real y2'\n",
    "error1 = 'Error y1'\n",
    "error2 = 'Error y2'"
   ]
  },
  {
   "cell_type": "code",
   "execution_count": null,
   "metadata": {},
   "outputs": [],
   "source": [
    "# Definimos la función f1(t,y1, y2)\n",
    "def f1(t, y1, y2):\n",
    "    f1 = y2\n",
    "    return f1\n",
    "\n",
    "# Definimos la función f2(t,y1, y2)\n",
    "def f2(t, y1, y2):\n",
    "    f1 = 2 * y2 - 2 * y1 + exp(2 * t) * sin(t)\n",
    "    return f1\n",
    "\n",
    "# Concatenamos las funciones en una lista\n",
    "func = [f1, f2]"
   ]
  },
  {
   "cell_type": "code",
   "execution_count": null,
   "metadata": {},
   "outputs": [],
   "source": [
    "# Definimos las soluciones reales del sistema\n",
    "\n",
    "# Definimos la función y1(t)\n",
    "def y1(t):\n",
    "    y1 = 0.2 * exp(2 * t) * (sin(t) - 2 * cos(t))\n",
    "    return y1\n",
    "\n",
    "# Definimos la función y2(t)\n",
    "def y2(t):\n",
    "    y2 = 0.2 * exp(2 * t) * (4 * sin(t) - 3 * cos(t))\n",
    "    return y2"
   ]
  },
  {
   "cell_type": "code",
   "execution_count": null,
   "metadata": {},
   "outputs": [],
   "source": [
    "# Determinamos el tamaño de salto\n",
    "h = (b - a) / n"
   ]
  },
  {
   "cell_type": "code",
   "execution_count": null,
   "metadata": {},
   "outputs": [],
   "source": [
    "# Generamos el arreglo de puntos y de aproximaciones donde trabajaremos\n",
    "aprox = np.empty((m+1, n+1))\n",
    "\n",
    "# La primer dimensión tendra los puntos donde trabajaremos, es decir, los puntos de la malla\n",
    "aprox[0,:] = np.arange(a,b + h, h)\n",
    "\n",
    "# Imprimimos la primer dimensión a fin de validar los resultados:\n",
    "print(aprox[0])"
   ]
  },
  {
   "cell_type": "code",
   "execution_count": null,
   "metadata": {},
   "outputs": [],
   "source": [
    "# Incorporamos los valores asociados con las condiciones iniciales\n",
    "aprox[1,0] = w10\n",
    "aprox[2,0] = w20"
   ]
  },
  {
   "cell_type": "code",
   "execution_count": null,
   "metadata": {},
   "outputs": [],
   "source": [
    "# Definimos el método de Runge - Kutta de orden 4\n",
    "def rungeK4(t, h, w, func):\n",
    "    \n",
    "    # Definimos un arreglo donde se encontrarán los valores de los coeficientes\n",
    "    coef = np.empty((m, 5))\n",
    "    \n",
    "    # determinamos los coeficientes de k1\n",
    "    for i in range(m):\n",
    "        coef[i,0] = h * func[i](t, w[0], w[1])\n",
    "        \n",
    "    # determinamos los coeficientes de k2\n",
    "    for i in range(m):\n",
    "        coef[i,1] = h * func[i](t + (h / 2), w[0] + (coef[0,0] / 2), w[1] + (coef[1,0] / 2))\n",
    "        \n",
    "    # determinamos los coeficientes de k3\n",
    "    for i in range(m):\n",
    "        coef[i,2] = h * func[i](t + (h / 2), w[0] + (coef[0,1] / 2), w[1] + (coef[1,1] / 2))\n",
    "        \n",
    "    # determinamos los coeficientes de k4\n",
    "    for i in range(m):\n",
    "        coef[i,3] = h * func[i](t + h, w[0] + coef[0,2], w[1] + coef[1,2])\n",
    "        \n",
    "    # determinamos las aproximaciones de w\n",
    "    for i in range(m):\n",
    "        coef[i,4] = w[i] + (coef[i,0] + 2 * coef[i,1] + 2 * coef[i,2] + coef[i,3]) / 6\n",
    "    \n",
    "    return coef"
   ]
  },
  {
   "cell_type": "code",
   "execution_count": null,
   "metadata": {},
   "outputs": [],
   "source": [
    "# Comenzamos el proceso iterativo\n",
    "for i in range(1,n+1):\n",
    "    \n",
    "    # Llamamos a la función objetivo\n",
    "    coef = rungeK4(aprox[0,i-1], h, aprox[:,i-1][1:(m+1)], func)\n",
    "    \n",
    "    # Asignamos los valores al arreglo correspondiente\n",
    "    aprox[1,i] = coef[0,4]\n",
    "    aprox[2,i] = coef[1,4]\n",
    "\n",
    "# Creamos el arreglo donde trabajaremos\n",
    "resumen = np.empty((7,n+1))\n",
    "\n",
    "# Asignamos los puntos donde trabajamos y los valores aproximados\n",
    "resumen[0:(m+1),:] = aprox.copy()\n",
    "\n",
    "# Agregamos los valores reales de y1\n",
    "resumen[3] = y1(resumen[0])\n",
    "\n",
    "# Agregamos los valores reales de y2\n",
    "resumen[4] = y2(resumen[0])\n",
    "\n",
    "# Determinamos el error de aproximacion de y1\n",
    "resumen[5,:] = abs(resumen[3].copy() - resumen[1].copy())\n",
    "\n",
    "# Determinamos el error de aproximacion de y2\n",
    "resumen[6,:] = abs(resumen[4].copy() - resumen[2].copy())"
   ]
  },
  {
   "cell_type": "code",
   "execution_count": null,
   "metadata": {},
   "outputs": [],
   "source": [
    "# Imprimimos los resultados obtenidos\n",
    "print('La aproximacion obtenida se encuentra dada por:')\n",
    "\n",
    "# Titulos de la tabla\n",
    "print(f'{punto:12}   {aproxima1:12}   {aproxima2:12}  {real1:12}   {real2:12}  {error1:14}   {error2:14}')\n",
    "\n",
    "for i in range(n+1):\n",
    "    print('{0:12}   {1:12}   {2:12}   {3:12}   {4:12}   {5:14f}   {6:14f}'.format(round(resumen[0,i],8), round(resumen[1,i],8), round(resumen[2,i],8), round(resumen[3,i],8), round(resumen[4,i],8), round(resumen[5,i],10), round(resumen[6,i],10)))"
   ]
  },
  {
   "cell_type": "code",
   "execution_count": null,
   "metadata": {},
   "outputs": [],
   "source": []
  }
 ],
 "metadata": {
  "kernelspec": {
   "display_name": "Python 3",
   "language": "python",
   "name": "python3"
  },
  "language_info": {
   "codemirror_mode": {
    "name": "ipython",
    "version": 3
   },
   "file_extension": ".py",
   "mimetype": "text/x-python",
   "name": "python",
   "nbconvert_exporter": "python",
   "pygments_lexer": "ipython3",
   "version": "3.8.5"
  }
 },
 "nbformat": 4,
 "nbformat_minor": 4
}
