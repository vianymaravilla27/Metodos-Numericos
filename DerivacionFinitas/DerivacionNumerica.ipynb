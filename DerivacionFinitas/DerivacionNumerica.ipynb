{
 "cells": [
  {
   "cell_type": "markdown",
   "metadata": {},
   "source": [
    "# Fórmulas de aproximación de derivas por medio de diferencias finitas\n",
    "\n",
    "\n",
    "Hasta el momento hemos podido analizar y determinar fórmulas de aproximación de la derivda, en función del número de puntos y del tamaño de paso $h$.\n",
    "\n",
    "Las cuales se determinan a partir de emplear el **Teorema de Taylor** el cual se cita:\n",
    "\n",
    "**Teorema de Taylor:** Sea $f:\\left[ a,b \\right]\\to\\mathbb{R}$ una función de clase $C^{n+1}\\left(\\left[ a,b \\right]\\right)$, dado $x_{0}\\in\\left[ a,b \\right]$, entonces para se cumple que para cada $x\\in\\left[ a,b \\right]$ existe $\\xi\\in\\left( x_{0},x \\right)$ tal que:\n",
    "\n",
    "$$f(x+h) = f(x) +\\frac{f'(x)h}{1!}+\\frac{f''(x)h^{2}}{2!}+\\dots+\\frac{f^{\\left( n \\right)}(x)h^{n}}{n!}+\\frac{f^{\\left( n+1 \\right)}(\\xi)h^{n+1}}{\\left( n+1 \\right)!}$$\n",
    "\n",
    "Con lo que pudimos obtener algunas fórmulas de aproximación de la derivada:\n",
    "\n",
    "1. Diferencias regresivas de aproximación de la derivada\n",
    "\n",
    "$$\\begin{array}{|c|c|c|}\\hline\n",
    "\t\t\t\t\\text{Orden} & \\text{Aproximación} & \\text{Orden del error} \\\\\\hline\n",
    "\t\t\t\t2 & \\frac{f(x_i) - f(x_{i+1})}{h} & O(h) \\\\\\hline\n",
    "\t\t\t\\end{array}$$\n",
    "            \n",
    "\n",
    "2. Diferencias progresivas de aproximación de la derivada\n",
    "\n",
    "$$\\begin{array}{|c|c|c|}\\hline\n",
    "\t\t\t\t\\text{Orden} & \\text{Aproximación} & \\text{Orden del error} \\\\\\hline\n",
    "\t\t\t\t2 & \\frac{- f(x_i) + f(x_{i+1})}{h} & O(h) \\\\\n",
    "\t\t\t\t3 & \\frac{-3 f\\left(x_i\\right) + 4 f\\left(x_{i + 1}\\right) - f\\left(x_{i + 2}\\right)}{2h} & O(h^2) \\\\\n",
    "\t\t\t\t4 & \\frac{- 11f\\left(x_{i}\\right) + 18f\\left(x_{i+1}\\right) - 9f\\left(x_{i+2}\\right) + 2f\\left(x_{i+3}\\right)}{6h} & O(h^3) \\\\\n",
    "\t\t\t\t5 & \\frac{-25 f\\left(x_{i}\\right) + 48 f\\left(x_{i+1}\\right) - 36 f\\left(x_{i+2}\\right) + 16 f\\left(x_{i+3}\\right) - 3 f\\left(x_{i+4}\\right)}{12h} & O(h^4) \\\\\\hline\n",
    "\t\t\t\\end{array}$$\n",
    "            \n",
    "3. Diferencias centrales de aproximación de la derivada\n",
    "\n",
    "$$\\begin{array}{|c|c|c|}\\hline\n",
    "\t\t\t\t\\text{Orden} & \\text{Aproximación} & \\text{Orden del error} \\\\\\hline\n",
    "\t\t\t\t2 & \\frac{- f(x - h) + f(x + h)}{2h} & O(h^2) \\\\\n",
    "\t\t\t\t4 & \\frac{f\\left(x_{i-2}\\right) - 8 f\\left(x_{i-1}\\right) + 8f\\left(x_{i+1}\\right) - f\\left(x_{i+2}\\right)}{12h} & O(h^4) \\\\\n",
    "\t\t\t\t6 & \\frac{-f\\left(x_{i-3}\\right) + 9f\\left(x_{i-2}\\right) - 45f\\left(x_{i-1}\\right) + 45f\\left(x_{i+1}\\right) - 9f\\left(x_{i+2}\\right) + f\\left(x_{i+3}\\right)}{60h} & O(h^6) \\\\\\hline\n",
    "\t\t\t\\end{array}$$\n",
    "            \n",
    "            \n",
    "Ahora buscaremos codificar dichas fórmulas a fin de que se pueda aplicar los métodos"
   ]
  },
  {
   "cell_type": "code",
   "execution_count": 1,
   "metadata": {},
   "outputs": [],
   "source": [
    "# Apartado para la importación de las librerias necesarias para la función\n",
    "from numpy import log, cos, sin, tan, arctan"
   ]
  },
  {
   "cell_type": "code",
   "execution_count": 2,
   "metadata": {},
   "outputs": [],
   "source": [
    "# Definimos ahora la función sobre la que trabajaremos\n",
    "def fx(x):\n",
    "    fx = log(x)\n",
    "    return fx"
   ]
  },
  {
   "cell_type": "code",
   "execution_count": 3,
   "metadata": {},
   "outputs": [],
   "source": [
    "# Ahora con esta función definimos los parámetros de la aproximación:\n",
    "x0 = 2 # Punto donde aproximaremos la derivada\n",
    "h = 0.1 # Tamaño de paso para el cálculo de la derivada"
   ]
  },
  {
   "cell_type": "code",
   "execution_count": 4,
   "metadata": {},
   "outputs": [],
   "source": [
    "# A continuación se muestra el compendio de todas las fórmulas señaladas previamente:\n",
    "\n",
    "# Aproximación de la derivada con la formula regresiva de dos puntos\n",
    "def regresiva2(fx, h, x0):\n",
    "    regresiva = (-fx(x0 - h) + fx(x0)) / h\n",
    "    return regresiva\n",
    "\n",
    "# Aproximación de la derivada con la formula progresiva de dos puntos\n",
    "def progresiva2(fx, h, x0):\n",
    "    progresiva2 = (-fx(x0) + fx(x0 + h)) / h\n",
    "    return progresiva2\n",
    "\n",
    "# Aproximación de la derivada con la formula progresiva de tres puntos\n",
    "def progresiva3(fx, h, x0):\n",
    "    progresiva3 = (-3 * fx(x0) + 4 * fx(x0 + h) - fx(x0 + 2 * h)) / (2 * h)\n",
    "    return progresiva3\n",
    "\n",
    "# Aproximación de la derivada con la formula progresiva de cuatro puntos\n",
    "def progresiva4(fx, h, x0):\n",
    "    progresiva4 = (-11 * fx(x0) + 18 * fx(x0 + h) - 9 * fx(x0 + 2 * h) + 2 * fx(x0 + 3 * h)) / (6 * h)\n",
    "    return progresiva4\n",
    "\n",
    "# Aproximación de la derivada con la formula progresiva de cinco puntos\n",
    "def progresiva5(fx, h, x0):\n",
    "    progresiva5 = (-25 * fx(x0) + 48 * fx(x0 + h) - 36 * fx(x0 + 2 * h) + 16 * fx(x0 + 3 * h) - 3 * fx(x0 + 4 * h)) / (12 * h)\n",
    "    return progresiva5\n",
    "\n",
    "# Ahora definimos una función que determina la aproximación mediante la diferencia central de segundo orden\n",
    "def central2(fx, h, x0):\n",
    "    central2 = (fx(x0 + h) - fx(x0 - h)) / (2 * h)\n",
    "    return central2\n",
    "\n",
    "# Ahora definimos una función que determina la aproximación mediante la diferencia central de cuarto orden\n",
    "def central4(fx, h, x0):\n",
    "    central4 = (fx(x0 - 2 * h) - 8 * fx(x0 - h) + 8 * fx(x0 + h) - fx(x0 + 2 * h)) / (12 * h)\n",
    "    return central4\n",
    "\n",
    "# Ahora definimos una función que determina la aproximación mediante la diferencia central de sexto orden\n",
    "def central6(fx, h, x0):\n",
    "    central6 = (-fx(x0 - 3 * h) + 9 * fx(x0 - 2 * h) - 45 * fx(x0 - h) + 45 * fx(x0 + h) - 9 * fx(x0 + 2 * h) + fx(x0 + 3 * h)) / (60 * h)\n",
    "    return central6"
   ]
  },
  {
   "cell_type": "code",
   "execution_count": 16,
   "metadata": {},
   "outputs": [
    {
     "data": {
      "text/plain": [
       "0.4999999969612645"
      ]
     },
     "execution_count": 16,
     "metadata": {},
     "output_type": "execute_result"
    }
   ],
   "source": [
    "# Usaremos aproximaciones progresiva de segundo orden para aproximar la derivada de la función en el punto\n",
    "# x0 = 2 usando diferentes tamaños de a h\n",
    "progresiva2(fx, 0.00000001 ,x0)"
   ]
  },
  {
   "cell_type": "code",
   "execution_count": null,
   "metadata": {},
   "outputs": [],
   "source": [
    "# Crearemos una lista que evalue la diferencia progresiva en tamaños de h a la mitad\n",
    "# h = 0.1, h = 0.05, h = 0.025, h = 0.0125, h = 0.00675, h = \n"
   ]
  }
 ],
 "metadata": {
  "kernelspec": {
   "display_name": "Python 3",
   "language": "python",
   "name": "python3"
  },
  "language_info": {
   "codemirror_mode": {
    "name": "ipython",
    "version": 3
   },
   "file_extension": ".py",
   "mimetype": "text/x-python",
   "name": "python",
   "nbconvert_exporter": "python",
   "pygments_lexer": "ipython3",
   "version": "3.8.5"
  }
 },
 "nbformat": 4,
 "nbformat_minor": 4
}
