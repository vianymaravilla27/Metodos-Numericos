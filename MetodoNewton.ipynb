{
 "cells": [
  {
   "cell_type": "markdown",
   "metadata": {},
   "source": [
    "# Método de Newton\n",
    "\n",
    "## Condiciones\n",
    "\n",
    "Para asegurar el buen funcionamiento del método debemos asegurar que nos encontramos cerca de la raíz a fin de que la convergencia se presente de forma adecuada.\n",
    "\n",
    "## Proceso iterativo\n",
    "\n",
    "El proceso iterativo se realiza al selecccionar una primer aproximación de la raíz y posteriormente, las siguientes aproximaciones se determinan por medio de la sucesión generada por:\n",
    "\n",
    "$$p_n=p_{n-1}-\\frac{f\\left(p_{n-1}\\right)}{f'\\left(p_{n-1}\\right)}$$\n",
    "\n",
    "## Condición de paro\n",
    "\n",
    "Al igual que en los métodos anteriores podemos imponer una condición de paro en función de las aproximaciones sucesivas en términos del error absoluto y del valor de la función, es decir:\n",
    "\n",
    "$$\\left | f\\left(x_n\\right)\\right | + \\left | x_n-x_{n-1} \\right | \\leq \\varepsilon$$\n",
    "\n",
    "Esto únicamente lo aplicamos para este método debido a su velocidad de convergencia."
   ]
  },
  {
   "cell_type": "code",
   "execution_count": 14,
   "metadata": {},
   "outputs": [],
   "source": [
    "# Importamos las funciones necesarias que empleara la función objetivo\n",
    "from numpy import cos, sin\n",
    "from math import e\n",
    "\n",
    "# Procedemos a definir e inicializar las condiciones de paro del método\n",
    "tol = 1.*(10**(-10)) # Obtener un error relativo de 10^(-10)\n",
    "maxItera = 100 # Realizar máximo 100 iteraciones"
   ]
  },
  {
   "cell_type": "code",
   "execution_count": 13,
   "metadata": {},
   "outputs": [
    {
     "ename": "SyntaxError",
     "evalue": "invalid syntax (<ipython-input-13-dc0ae9ee439b>, line 3)",
     "output_type": "error",
     "traceback": [
      "\u001b[1;36m  File \u001b[1;32m\"<ipython-input-13-dc0ae9ee439b>\"\u001b[1;36m, line \u001b[1;32m3\u001b[0m\n\u001b[1;33m    fx = e**x+2**-x+2 cos (x)-6\u001b[0m\n\u001b[1;37m                      ^\u001b[0m\n\u001b[1;31mSyntaxError\u001b[0m\u001b[1;31m:\u001b[0m invalid syntax\n"
     ]
    }
   ],
   "source": [
    "# Definimos la funcion objetivo\n",
    "def fx(x):\n",
    "    fx = e**x+2**-x+2 cos (x)-6\n",
    "    return fx\n",
    "\n",
    "# Definimos la derivada de la funcion objetivo\n",
    "def fxp(x):\n",
    "    fxp = -2sin(x)+e**x-(ln(2)/(2**x))\n",
    "    return fxp"
   ]
  },
  {
   "cell_type": "code",
   "execution_count": null,
   "metadata": {},
   "outputs": [],
   "source": [
    "# Definimos el punto inicial donde comenzaremos por aplicar el método así como el indice de conteo de las\n",
    "# iteraciones y un error grande a fin de inicializar el método\n",
    "p0 = 1.5 # aproximación inicial\n",
    "k = 0 # Inicilizamos las iteraciones\n",
    "error = 10000 # Inicializamos el valor del error en un número muy grande\n",
    "pAnterior = p0 # Inicializamos la primer aproximación como b"
   ]
  },
  {
   "cell_type": "code",
   "execution_count": null,
   "metadata": {},
   "outputs": [],
   "source": [
    "# Definimos una funcion que defina el método iterativo del punto fijo\n",
    "def itenewton(a, fx, fxp):\n",
    "    # Evaluamos para validar si ya tenemos la raíz\n",
    "    evalua = fx(a)\n",
    "    # Validamos si llegamos a las raíz\n",
    "    if evalua==0:\n",
    "        return 0, a\n",
    "    \n",
    "    else:\n",
    "        return 1, a - (fx(a) / fxp(a))"
   ]
  },
  {
   "cell_type": "code",
   "execution_count": null,
   "metadata": {},
   "outputs": [],
   "source": [
    "# Empezamos el método de newton con los datos dados\n",
    "\n",
    "# En este caso ya tenemos la raíz deseada\n",
    "if fx(p0) == 0:\n",
    "    # Se describe que existe una raíz en el punto dado previamente\n",
    "    print('Se ha encontrado el punto fijo, el cual está dado por el punto {0}.'.format(p0))\n",
    "    \n",
    "# Dado que no tenemos la raíz aún procedemos a realizar iteraciones\n",
    "else:\n",
    "    # Señalamos que iniciamos el proceso iterativo\n",
    "    print('Iniciamos el proceso iterativo')\n",
    "    \n",
    "    # Iniciamos el proceso iterativo\n",
    "    while (error > tol and k < maxItera):\n",
    "        \n",
    "        # Iteramos el proceso\n",
    "        itera = itenewton(p0, fx, fxp)\n",
    "        \n",
    "        # Validamos los casos obtenidos de la bandera, si esta es 0, se ha determinado la raíz\n",
    "        if itera[0] == 0:\n",
    "            # Describimos que hemos determinado el punto fijo y lo imprimimos\n",
    "            print('El punto fijo de la función se encuentra en el punto: {0}.'.format(itera[1]))\n",
    "            k = maxItera\n",
    "            \n",
    "        # Validamos los casos obtenidos de la bandera, si esta es 1, no se ha determinado el punto fijo\n",
    "        else:\n",
    "            # Incrementamos en 1 las iteraciones realizadas\n",
    "            k = k + 1\n",
    "            \n",
    "            # Imprimimos los resultados obtenidos de la iteracion\n",
    "            print('Resultados de la iteracion {0}.'.format(k))\n",
    "            print('La aproximación del punto fijo se encuentra dada por {0}.'.format(itera[1]))\n",
    "            print('El valor de la función bajo la aproximación es {0}.'.format(fx(itera[1])))\n",
    "            \n",
    "            # Actualizamos las variables\n",
    "            error = abs(p0 - itera[1]) + abs(fx(p0)) # Error de aproximaciones\n",
    "            p0 = itera[1]\n",
    "            \n",
    "            # Imprimimos el error\n",
    "            print('El error relativo se encuentra dado por {0}.\\n'.format(error))"
   ]
  },
  {
   "cell_type": "code",
   "execution_count": null,
   "metadata": {},
   "outputs": [],
   "source": []
  }
 ],
 "metadata": {
  "kernelspec": {
   "display_name": "Python 3",
   "language": "python",
   "name": "python3"
  },
  "language_info": {
   "codemirror_mode": {
    "name": "ipython",
    "version": 3
   },
   "file_extension": ".py",
   "mimetype": "text/x-python",
   "name": "python",
   "nbconvert_exporter": "python",
   "pygments_lexer": "ipython3",
   "version": "3.8.8"
  }
 },
 "nbformat": 4,
 "nbformat_minor": 4
}
