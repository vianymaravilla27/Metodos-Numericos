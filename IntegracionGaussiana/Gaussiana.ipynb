{
 "cells": [
  {
   "cell_type": "markdown",
   "metadata": {},
   "source": [
    "# Integración Gaussiana\n",
    "\n",
    "En esta libreta de trabajo se implementa el método de aproximación de integrales por medio de la **cuadratura Gaussiana**, por lo que, ahora procedemos a describir el proceso de aplicación, para esto primero debemos tener presente que el intervalo de aplicación sobre este es el $[-1,1]$.\n",
    "\n",
    "Por lo anterior, primero debemos validar si el intervalo es el adecuado, en caso contrario debemos transformar el intervalo al adecuado, por lo anterior considere que buscamos aproximar la integral \n",
    "\n",
    "$$\\int_a^b f(x) dx,$$\n",
    "\n",
    "donde el intervalo $[a,b]$ no necesariamente es el $[-1,1]$, entonces para obtener el intervalo señalado proponemos el cambio de variable descrito por:\n",
    "\n",
    "$$t = \\frac{2b - a - b}{b - a} = \\frac{b-a}{b-a}$$\n",
    "\n",
    "La cual nos lleva a considerar la siguiente integral\n",
    "\n",
    "$$\\int_a^b f(x)dx = \\int_{-1}^1 f\\left(\\frac{(b-a)t + a + b}{2}\\right) \\frac{b-a}{2}dt.$$\n",
    "\n",
    "Posterior a esto, sólo resta aplicar las cuadraturas gaussianas según sea el caso de $n$ que busquemos aplicar:\n",
    "\n",
    "1. Para $n = 2$ se tiene que: \n",
    "\n",
    "$$\\int_{-1}^1 f(x) dx \\approx f\\left(-\\frac{1}{\\sqrt{3}}\\right) + f\\left(\\frac{1}{\\sqrt{3}}\\right).$$\n",
    "\n",
    "\n",
    "2. Para $n = 3$ se tiene que: \n",
    "\n",
    "$$\\int_{-1}^1 f(x) dx \\approx \\frac{5}{9} f\\left(-\\sqrt{\\frac{3}{5}}\\right) + \\frac{8}{9} f\\left(0\\right) + \\frac{5}{9} f\\left(\\sqrt{\\frac{3}{5}}\\right).$$\n",
    "\n",
    "\n",
    "3. Para $n = 4$ se tiene que: \n",
    "\n",
    "\\begin{equation}\n",
    "\\begin{split}\n",
    "\\int_{-1}^1 f(x) dx & \\approx \\frac{18 - \\sqrt{30}}{36} f\\left(-\\sqrt{\\frac{3 + 2\\sqrt{\\frac{6}{5}}}{7}}\\right) + \\frac{18 + \\sqrt{30}}{36} f\\left(-\\sqrt{\\frac{3 - 2\\sqrt{\\frac{6}{5}}}{7}}\\right) \\\\\n",
    "& + \\frac{18 + \\sqrt{30}}{36} f\\left(\\sqrt{\\frac{3 - 2\\sqrt{\\frac{6}{5}}}{7}}\\right) + \\frac{18 - \\sqrt{30}}{36} f\\left(\\sqrt{\\frac{3 + 2\\sqrt{\\frac{6}{5}}}{7}}\\right) \\\\\n",
    "\\end{split}\n",
    "\\end{equation}\n",
    "\n",
    "4. Para $n = 5$ se tiene que: \n",
    "\n",
    "\\begin{equation}\n",
    "\t\t\t\t\t\t\\begin{split}\n",
    "\t\t\t\t\t\t\t\\int_{-1}^1 f(x) dx & \\approx 0.2369268850 f(0.9061798459) + 0.4786286705 f(0.5384693101) + 0.5688888889 f(0) \\\\\n",
    "\t\t\t\t\t\t\t& + 0.4786286705 f(-0.5384693101) + 0.2369268850 f(-0.9061798459) \\\\\n",
    "\t\t\t\t\t\t\\end{split}\n",
    "\t\t\t\t\t\\end{equation}"
   ]
  },
  {
   "cell_type": "markdown",
   "metadata": {},
   "source": [
    "# Ejemplo 1:\n",
    "\n",
    "Aproxime la integral $\\int_{-1}^1 e^x \\cos(x) dx$ usando la cuadratura Gaussiana con $n = 3$."
   ]
  },
  {
   "cell_type": "code",
   "execution_count": null,
   "metadata": {},
   "outputs": [],
   "source": [
    "# Procedemos a importar las funciones necesarias para la definción de la función objetivo\n",
    "from numpy import exp, cos, sqrt, sin"
   ]
  },
  {
   "cell_type": "code",
   "execution_count": null,
   "metadata": {},
   "outputs": [],
   "source": [
    "# Definimos la función\n",
    "def fx(x):\n",
    "    fx = exp(x) * cos(x)\n",
    "    return fx"
   ]
  },
  {
   "cell_type": "code",
   "execution_count": null,
   "metadata": {},
   "outputs": [],
   "source": [
    "# Ahora procedemos a definir el método de cuadratura Gaussiana para n = 2\n",
    "def gaussiana2(fx):\n",
    "    gaussiana2 = fx(-1 / sqrt(3)) + fx(1 / sqrt(3))\n",
    "    return gaussiana2\n",
    "\n",
    "# Ahora procedemos a definir el método de cuadratura Gaussiana para n = 3\n",
    "def gaussiana3(fx):\n",
    "    gaussiana3 = (5 / 9) * fx(-sqrt(3 / 5)) + (8 / 9) * fx(0) + (5 / 9) * fx(sqrt(3 / 5))\n",
    "    return gaussiana3"
   ]
  },
  {
   "cell_type": "code",
   "execution_count": null,
   "metadata": {},
   "outputs": [],
   "source": [
    "# Aplicamos el método a la función objetivo con n = 2\n",
    "print('El valor aproximando mediante el método de cuadratura gaussiana con n = 2 es :', gaussiana2(fx))"
   ]
  },
  {
   "cell_type": "code",
   "execution_count": null,
   "metadata": {},
   "outputs": [],
   "source": [
    "# Aplicamos el método a la función objetivo con n= 3\n",
    "print('El valor aproximando mediante el método de cuadratura gaussiana con n = 3 es :', gaussiana3(fx))"
   ]
  },
  {
   "cell_type": "code",
   "execution_count": null,
   "metadata": {},
   "outputs": [],
   "source": [
    "# Ahora procedemos a definir los métodos de cuadratura gaussiana, por lo que, definiremos dos arreglos, uno para\n",
    "# los coeficientes y otro para los puntos donde se evaluara la función\n",
    "\n",
    "# Arreglo de coeficientes\n",
    "coef = [[1, 1], [5/9, 8/9, 5/9], [(18 - sqrt(30))/36, (18 + sqrt(30))/36, (18 + sqrt(30))/36 ,(18 - sqrt(30))/36],\n",
    "       [0.2369268850, 0.4786286705, 0.5688888889, 0.4786286705, 0.2369268850]]\n",
    "\n",
    "# Arreglo de puntos donde se evaluara\n",
    "evalf = [[-sqrt(1/3), sqrt(1/3)], [-sqrt(3/5), 0, sqrt(3/5)],\n",
    "         [-sqrt((3+2*sqrt(6/5))/7), -sqrt((3-2*sqrt(6/5))/7), sqrt((3-2*sqrt(6/5))/7), sqrt((3+2*sqrt(6/5))/7)],\n",
    "         [0.9061798459, 0.5384693101, 0, -0.5384693101, -0.9061798459]]\n",
    "\n",
    "def gaussiana(fx, n):\n",
    "    \n",
    "    # Determinamos la lista a emplear con el desfase de python\n",
    "    k = n - 2\n",
    "    \n",
    "    # Definimos una variable donde guardaremos el valor\n",
    "    integral = 0\n",
    "    \n",
    "    # Empezamos las evaluaciones\n",
    "    for i in range(len(coef[k])):\n",
    "        integral = integral + coef[k][i] * fx(evalf[k][i])\n",
    "        \n",
    "    # Regresamos el valor\n",
    "    return integral"
   ]
  },
  {
   "cell_type": "markdown",
   "metadata": {},
   "source": [
    "# Ejemplo 2:\n",
    "\n",
    "Aproxime la integral $\\int_{1}^3 \\left(x^6 - x^2 \\sin(2x)\\right) dx$ usando la cuadratura Gaussiana con $n = 2$."
   ]
  },
  {
   "cell_type": "code",
   "execution_count": null,
   "metadata": {},
   "outputs": [],
   "source": [
    "# Primero que nada notemos que el intervalo no es señalado por lo que es necesario transformarla, pero previamente\n",
    "# definimos la función a trabajar\n",
    "def fx(x):\n",
    "    fx = x**6 - sin(2 * x) * x**2\n",
    "    return fx"
   ]
  },
  {
   "cell_type": "code",
   "execution_count": null,
   "metadata": {},
   "outputs": [],
   "source": [
    "# Aplicamos ahora la transformación de la función\n",
    "def fxN(x):\n",
    "    # Aplicamos el cambio de variable\n",
    "    cambio = ((3 - 1) * x + 3 + 1) / 2\n",
    "    \n",
    "    # Evaluamos en el cambio de variable\n",
    "    fxN = fx(cambio) * (3 - 1) / 2\n",
    "    \n",
    "    # Regresamos el valor\n",
    "    return fxN"
   ]
  },
  {
   "cell_type": "code",
   "execution_count": null,
   "metadata": {},
   "outputs": [],
   "source": [
    "gaussiana(fxN, 2)"
   ]
  }
 ],
 "metadata": {
  "kernelspec": {
   "display_name": "Python 3",
   "language": "python",
   "name": "python3"
  },
  "language_info": {
   "codemirror_mode": {
    "name": "ipython",
    "version": 3
   },
   "file_extension": ".py",
   "mimetype": "text/x-python",
   "name": "python",
   "nbconvert_exporter": "python",
   "pygments_lexer": "ipython3",
   "version": "3.8.5"
  }
 },
 "nbformat": 4,
 "nbformat_minor": 4
}
