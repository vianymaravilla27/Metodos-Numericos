{
 "cells": [
  {
   "cell_type": "markdown",
   "metadata": {},
   "source": [
    "# Integración compuesta\n",
    "\n",
    "En este código implementaremos las fórmulas de cuadraturas compuestas para la regla del trapecio, del punto medio y de Simpson, cabe señalar que el método en general consiste en tomar la integral a aproximar $\\int_a^b f(x) dx$ y:\n",
    "\n",
    "\n",
    "1. Seleccionar un entero $n$, el cual servirá para dividir el intervalo en $n$ subintervalos, cada uno de longitud $\\frac{b - a}{n}$.\n",
    "\n",
    "\n",
    "2. Aplicar un método de cuadratura sobre la integral resultante al subintervalo.\n",
    "\n",
    "\n",
    "3. Sumar todas las aproximaciones y esta resultará con la aproximación de mejor precisión y menor error.\n",
    "\n",
    "\n",
    "Finalmente se expresan las fórmulas obtenidas para cada una:\n",
    "\n",
    "1. **Regla compuesta del punto medio**: Consideramos $h = \\frac{b-a}{n}$ y $x_j = a + (j + 1)h$ con $j = -1, 0, 1, 2, \\dots, n, n+1$ entonces:\n",
    "\n",
    "$$\\int_a^b f(x) dx \\approx 2 h \\sum_{j=0}^{\\frac{n}{2}}f(x_{2j})$$\n",
    "\n",
    "\n",
    "2. **Regla compuesta del trapecio**: Consideramos $h = \\frac{b-a}{n}$ y $x_j = a + jh$ con $j = 0, 1, 2, \\dots, n$ entonces:\n",
    "\n",
    "$$\\int_a^b f(x) dx \\approx \\frac{h}{2}\\left(f(x_0) + 2 \\sum_{j=1}^{n-1}f(x_{j}) + f(x_n)\\right)$$\n",
    "\n",
    "\n",
    "3. **Regla compuesta de Simpson**: Consideramos $h = \\frac{b-a}{n}$ y $x_j = a + jh$ con $j = 0, 1, 2, \\dots, n$ entonces:\n",
    "\n",
    "$$\\int_a^b f(x) dx \\approx \\frac{h}{3}\\left(f(x_0) + 2 \\sum_{j=1}^{\\frac{n}{2}-1}f(x_{2j}) + 4 \\sum_{j=1}^{\\frac{n}{2}}f(x_{2j-1}) + f(x_n)\\right)$$"
   ]
  },
  {
   "cell_type": "code",
   "execution_count": null,
   "metadata": {},
   "outputs": [],
   "source": [
    "# En este apartado procederemos a importar las funciones necesarias para aproximar la integral\n",
    "from numpy import log, cos, sin, tan, pi, exp\n",
    "import numpy as np"
   ]
  },
  {
   "cell_type": "code",
   "execution_count": null,
   "metadata": {},
   "outputs": [],
   "source": [
    "# Definimos ahora la función sobre la que trabajaremos\n",
    "def fx(x):\n",
    "    fx = x / (x**2 + 4)\n",
    "    return fx"
   ]
  },
  {
   "cell_type": "code",
   "execution_count": null,
   "metadata": {},
   "outputs": [],
   "source": [
    "# Ahora con esta función definimos los parámetros de la aproximación:\n",
    "a = 1 # Extremo izquierdo donde se aproximará la integral\n",
    "b = 3 # Extremo derecho donde se aproximará la integral\n",
    "n = 10 # Numero de subdivisiones"
   ]
  },
  {
   "cell_type": "code",
   "execution_count": null,
   "metadata": {},
   "outputs": [],
   "source": [
    "# Definimos la regla del trapecio compuesto\n",
    "def trapecioC(fx, a, b, n):\n",
    "    \n",
    "    # Calculamos h\n",
    "    h = (b - a) / n\n",
    "    \n",
    "    # Creamos el arreglo de puntos y lo evaluamos\n",
    "    eval = fx(np.arange(a, b+h, h))\n",
    "    \n",
    "    # Aplicamos la cuadratura\n",
    "    trapecioC = (h / 2) * (eval[0] + 2 * eval[1:n].sum() + eval[n])\n",
    "    \n",
    "    return trapecioC"
   ]
  },
  {
   "cell_type": "code",
   "execution_count": null,
   "metadata": {},
   "outputs": [],
   "source": [
    "# Definimos la regla del trapecio compuesto\n",
    "def simpsonC(fx, a, b, n):\n",
    "    \n",
    "    # Calculamos h\n",
    "    h = (b - a) / n\n",
    "    \n",
    "    # Creamos el arreglo de puntos y lo evaluamos\n",
    "    eval = fx(np.arange(a, b+h, h))\n",
    "    \n",
    "    # Aplicamos la cuadratura\n",
    "    simpsonC = (h / 3) * (eval[0] + 2 * eval[::2][1:int((n/2))].sum() + 4 * eval[1::2].sum() + eval[n])\n",
    "    \n",
    "    return simpsonC"
   ]
  },
  {
   "cell_type": "code",
   "execution_count": null,
   "metadata": {},
   "outputs": [],
   "source": [
    "# Definimos la regla del punto medio compuesto"
   ]
  },
  {
   "cell_type": "code",
   "execution_count": null,
   "metadata": {},
   "outputs": [],
   "source": [
    "# Definimos la regla de simpson compuesta"
   ]
  },
  {
   "cell_type": "code",
   "execution_count": null,
   "metadata": {},
   "outputs": [],
   "source": [
    "# Calculamos el tamaño de h\n",
    "h = (b - a) / n\n",
    "h"
   ]
  },
  {
   "cell_type": "code",
   "execution_count": null,
   "metadata": {},
   "outputs": [],
   "source": [
    "# Crearemos el arreglo de puntos a evaluar y posteriormente lo evaluaremos:\n",
    "eval = np.arange(n+1)\n",
    "eval"
   ]
  },
  {
   "cell_type": "code",
   "execution_count": null,
   "metadata": {},
   "outputs": [],
   "source": [
    "# Trasladamos a los puntos\n",
    "eval = a + eval * h\n",
    "eval"
   ]
  },
  {
   "cell_type": "code",
   "execution_count": null,
   "metadata": {},
   "outputs": [],
   "source": [
    "# Evaluamos el arreglo en la funcion\n",
    "eval = fx(eval)\n",
    "eval"
   ]
  },
  {
   "cell_type": "code",
   "execution_count": null,
   "metadata": {},
   "outputs": [],
   "source": [
    "# Aplicamos la cuadratura\n",
    "(h / 2) * (eval[0] + 2 * eval[1:n].sum() + eval[n])"
   ]
  },
  {
   "cell_type": "code",
   "execution_count": null,
   "metadata": {},
   "outputs": [],
   "source": [
    "np.arange(a, b+h, h)"
   ]
  },
  {
   "cell_type": "code",
   "execution_count": null,
   "metadata": {},
   "outputs": [],
   "source": [
    "# Ahora pasamos a la regla de Simpson compuesta, primero que nada notemos que esta se restringe para n par\n",
    "if n%2 == 0:\n",
    "    print('Iniciamos el proceso')\n",
    "else:\n",
    "    n = n + 1\n",
    "    print('Se redondeo al entero par próximo')"
   ]
  },
  {
   "cell_type": "code",
   "execution_count": null,
   "metadata": {},
   "outputs": [],
   "source": [
    "# Calculamos el tamaño de h\n",
    "h = (b - a) / n\n",
    "h"
   ]
  },
  {
   "cell_type": "code",
   "execution_count": null,
   "metadata": {},
   "outputs": [],
   "source": [
    "# Crearemos el arreglo de puntos a evaluar y posteriormente lo evaluaremos:\n",
    "eval = np.arange(n+1)\n",
    "eval"
   ]
  },
  {
   "cell_type": "code",
   "execution_count": null,
   "metadata": {},
   "outputs": [],
   "source": [
    "# Trasladamos a los puntos\n",
    "eval = a + eval * h\n",
    "eval"
   ]
  },
  {
   "cell_type": "code",
   "execution_count": null,
   "metadata": {},
   "outputs": [],
   "source": [
    "# Evaluamos el arreglo en la funcion\n",
    "eval = fx(eval)\n",
    "eval"
   ]
  },
  {
   "cell_type": "code",
   "execution_count": null,
   "metadata": {},
   "outputs": [],
   "source": [
    "# Buscamos los enteros pares entre 1 y n-1\n",
    "eval[::2][1:int((n/2))]"
   ]
  },
  {
   "cell_type": "code",
   "execution_count": null,
   "metadata": {},
   "outputs": [],
   "source": [
    "# Buscamos los impartes entre 1 y n-1\n",
    "eval[1::2]"
   ]
  },
  {
   "cell_type": "code",
   "execution_count": null,
   "metadata": {},
   "outputs": [],
   "source": [
    "# Aplicamos la cuadratura\n",
    "(h / 3) * (eval[0] + 2 * eval[::2][1:int((n/2))].sum() + 4 * eval[1::2].sum() + eval[n])"
   ]
  },
  {
   "cell_type": "code",
   "execution_count": null,
   "metadata": {},
   "outputs": [],
   "source": [
    "eval[n]"
   ]
  },
  {
   "cell_type": "code",
   "execution_count": null,
   "metadata": {},
   "outputs": [],
   "source": [
    "trapecioC(fx,a,b,10)"
   ]
  },
  {
   "cell_type": "code",
   "execution_count": null,
   "metadata": {},
   "outputs": [],
   "source": [
    "simpsonC(fx,a,b,10)"
   ]
  },
  {
   "cell_type": "code",
   "execution_count": null,
   "metadata": {},
   "outputs": [],
   "source": []
  }
 ],
 "metadata": {
  "kernelspec": {
   "display_name": "Python 3",
   "language": "python",
   "name": "python3"
  },
  "language_info": {
   "codemirror_mode": {
    "name": "ipython",
    "version": 3
   },
   "file_extension": ".py",
   "mimetype": "text/x-python",
   "name": "python",
   "nbconvert_exporter": "python",
   "pygments_lexer": "ipython3",
   "version": "3.8.5"
  }
 },
 "nbformat": 4,
 "nbformat_minor": 4
}
