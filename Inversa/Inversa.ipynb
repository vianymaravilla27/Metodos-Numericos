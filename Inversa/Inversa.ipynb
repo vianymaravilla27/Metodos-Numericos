{
 "cells": [
  {
   "cell_type": "markdown",
   "metadata": {},
   "source": [
    "# Matriz Inversa\n",
    "\n",
    "\n",
    "Se dice que una matriz $A$ de tamaño $n\\times n$ es **no singular** o **invertible**, si existe una matriz $A^{-1}$ de $n\\times n$ con $AA^{-1} = A^{-1}A = I$, con $I$ la matriz identidad. A la matriz $A^{-1}$ se le llama la inversa de la matriz $A$. Una matriz que no tiene inversa recibe el nombre de **singular** o no **invertible**.\n",
    "\n",
    "\n",
    "hora bien, como podemos determinar la inversa en el caso general de que no tengamos la solución del sistema, para realizar este proceso, lo más común es realizar la eliminación de la matriz $A$ y convertirla en la identidad con la matriz aumentada de la identidad, es decir:\n",
    "\n",
    "\n",
    "\\begin{equation*}\n",
    "    \\left[A | I\\right]\\;\\;\\Rightarrow\\;\\;\\left[I | A^{-1}\\right],\n",
    "\\end{equation*}\n",
    "\n",
    "\n",
    "lo anterior siempre y cuando la matriz sea no singular, sino no podremos obtener en ningún momento la matriz identidad. Para lo anterior, lo más conveniente es obtener una variante del método de eliminación gaussiana a fin de obtener el método de Gauss - Jordan (el cual permite obtener la matriz identidad)."
   ]
  },
  {
   "cell_type": "code",
   "execution_count": 4,
   "metadata": {},
   "outputs": [],
   "source": [
    "# Importamos la libreria de numpy para manipular arreglos y álgebra lineal\n",
    "from numpy import array, zeros\n",
    "import numpy as np\n",
    "\n",
    "# Importamos la función señalada del determinante\n",
    "from numpy.linalg import det, solve, inv"
   ]
  },
  {
   "cell_type": "code",
   "execution_count": 2,
   "metadata": {},
   "outputs": [],
   "source": [
    "# Definimos la matriz con la que estaremos trabajando\n",
    "A = array([[2, 0, 1, 2], [1, 1, 0, 2], [2, -1, 3, 1], [3, -1, 4, 3]], dtype = float)"
   ]
  },
  {
   "cell_type": "code",
   "execution_count": 3,
   "metadata": {},
   "outputs": [
    {
     "name": "stdout",
     "output_type": "stream",
     "text": [
      "Procedemos a determinar la matriz inversa por medio del método de Gauss - Jordan\n",
      "La matriz inversa resultado del proceso es: \n",
      " [[ 1.00000000e+00 -5.55111512e-17  1.00000000e+00 -1.00000000e+00]\n",
      " [-1.00000000e+00  1.66666667e+00  1.66666667e+00 -1.00000000e+00]\n",
      " [-1.00000000e+00  6.66666667e-01  6.66666667e-01  0.00000000e+00]\n",
      " [ 0.00000000e+00 -3.33333333e-01 -1.33333333e+00  1.00000000e+00]]\n"
     ]
    }
   ],
   "source": [
    "# Calculamos la longitud de la matriz a invertir\n",
    "n = len(A)\n",
    "\n",
    "# Creamos una matriz aumentada con la identidad\n",
    "matrizA = np.zeros((n,2 * n))\n",
    "\n",
    "# Asiganamos las matrices correspondientes\n",
    "matrizA[:,0:n] = A.copy()\n",
    "matrizA[:,n:] = np.eye(n)\n",
    "\n",
    "# Validamos que la matriz es invertible\n",
    "if (det(A) != 0 and det(A) > 10 ** (-5)):\n",
    "    \n",
    "    # Señalamos que se ha procedido a señalar que se sigue el método para la inversa\n",
    "    print('Procedemos a determinar la matriz inversa por medio del método de Gauss - Jordan')\n",
    "\n",
    "    # Ahora identificamos como se debe proceder para reducir la matriz para la siguiente fila\n",
    "\n",
    "    # Tomamos la fila para pivote de eliminación hacía abajo\n",
    "    for j in range(n):\n",
    "        \n",
    "        # Procedemos a validar si el coeficiente de la línea pivote no es cero\n",
    "        pivote = matrizA[j,j]\n",
    "        \n",
    "        # Verificamos si el pivote es diferente de cero\n",
    "        if pivote == 0:\n",
    "            \n",
    "            # Buscamos aquella celda pivote que sea diferente de cero\n",
    "            for k in range(j+1, n):\n",
    "                \n",
    "                # Determinamos la que es diferente de k\n",
    "                if matrizA[k,k] != 0 :\n",
    "                    \n",
    "                    # Auxiliar\n",
    "                    cambio = matrizA[j,:].copy()\n",
    "                    \n",
    "                    # Cambiamos lineas\n",
    "                    matrizA[j,:] = matrizA[k,:].copy()\n",
    "                    matrizA[k,:] = cambio.copy()\n",
    "                    \n",
    "                    # Rompemos el ciclo for\n",
    "                    break\n",
    "        \n",
    "        # Eliminamos las bajo la fila pivote\n",
    "        for i in range(0,n):\n",
    "            \n",
    "            # Eliminamos completamente\n",
    "            if i != j:\n",
    "            \n",
    "                # Determinamos el coeficiente a aplicar en cada fila\n",
    "                coef = matrizA[i,j] / matrizA[j,j]\n",
    "\n",
    "                # Realizamos la eliminación a la segunda fila\n",
    "                matrizA[i,:] = matrizA[i,:] - coef * matrizA[j,:]\n",
    "                \n",
    "        # Dividimos por el valor señalado a fin de simplificar\n",
    "        matrizA[j,:] = matrizA[j,:] / matrizA[j,j]\n",
    "                \n",
    "    # Imprimimos la matriz resultado del sistema de ecuaciones\n",
    "    print('La matriz inversa resultado del proceso es: \\n', matrizA[:,n:])\n",
    "    \n",
    "else:\n",
    "    \n",
    "    print('La matriz no tiene solución única')"
   ]
  },
  {
   "cell_type": "code",
   "execution_count": 5,
   "metadata": {},
   "outputs": [
    {
     "name": "stdout",
     "output_type": "stream",
     "text": [
      "La matriz resultado de la matriz inversa \n",
      " [[ 1.00000000e+00 -1.48029737e-16  1.00000000e+00 -1.00000000e+00]\n",
      " [-1.00000000e+00  1.66666667e+00  1.66666667e+00 -1.00000000e+00]\n",
      " [-1.00000000e+00  6.66666667e-01  6.66666667e-01  2.46519033e-32]\n",
      " [-2.22044605e-16 -3.33333333e-01 -1.33333333e+00  1.00000000e+00]]\n"
     ]
    }
   ],
   "source": [
    "# Validamos el calculo con la funcion directa\n",
    "print('La matriz resultado de la matriz inversa \\n', inv(A))"
   ]
  },
  {
   "cell_type": "code",
   "execution_count": null,
   "metadata": {},
   "outputs": [],
   "source": []
  }
 ],
 "metadata": {
  "kernelspec": {
   "display_name": "Python 3",
   "language": "python",
   "name": "python3"
  },
  "language_info": {
   "codemirror_mode": {
    "name": "ipython",
    "version": 3
   },
   "file_extension": ".py",
   "mimetype": "text/x-python",
   "name": "python",
   "nbconvert_exporter": "python",
   "pygments_lexer": "ipython3",
   "version": "3.8.5"
  }
 },
 "nbformat": 4,
 "nbformat_minor": 4
}
