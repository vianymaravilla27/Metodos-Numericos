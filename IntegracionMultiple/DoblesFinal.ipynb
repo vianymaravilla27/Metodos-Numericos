{
 "cells": [
  {
   "cell_type": "markdown",
   "metadata": {},
   "source": [
    "# Integrales múltiples\n",
    "\n",
    "Considere la integral doble de la forma\n",
    "\n",
    "\\begin{equation}\n",
    "    \\int_a^b \\int_c^d f(x,y) dy dx,\n",
    "\\end{equation}\n",
    "\n",
    "entonces esta integral se resuelve al considerar la integral iterada, es decir, primero con respecto a la variable $y$ y posteriormente con la variable $x$, entonces tenemos:\n",
    "\n",
    "\\begin{equation}\n",
    "    \\int_a^b \\int_c^d f(x,y) dy dx = \\int_a^b \\left(\\int_c^d f(x,y) dy\\right) dx\n",
    "\\end{equation}\n",
    "\n",
    "Esta misma aproximación se obtiene al aplicar la cuadratura compuestas de Simpson en ambas variables con $n$ puntos en la variables $x$ y $m$ puntos en la variables $y$ entonces:\n",
    "\n",
    "\\begin{equation*}\n",
    "    \\begin{split}\n",
    "\t\t\\int_a^b \\int_c^d f(x,y) dy dx & \\approx \\frac{k}{3} \\left[\\frac{h}{3} \\left(f(x_0,y_0) + 2 \\sum_{i=1}^{\\frac{n}{2}-1} f(x_{2i}, y_0) + 4 \\sum_{i=1}^{\\frac{n}{2}} f(x_{2i-1}, y_0) + f(x_n,y_0)\\right)\\right. \\\\\n",
    "        & + 2 \\frac{h}{3} \\sum_{j=1}^{\\frac{m}{2}-1} \\left(f(x_0,y_{2j}) + 2 \\sum_{i=1}^{\\frac{n}{2}-1} f(x_{2i}, y_{2j}) + 4 \\sum_{i=1}^{\\frac{n}{2}} f(x_{2i-1}, y_{2j}) + f(x_n,y_{2j})\\right) \\\\\n",
    "\t\t& + 4 \\frac{h}{3} \\sum_{j=1}^{\\frac{m}{2}-1} \\left(f(x_0,y_{2j-1}) + 2 \\sum_{i=1}^{\\frac{n}{2}-1} f(x_{2i}, y_{2j-1}) + 4 \\sum_{i=1}^{\\frac{n}{2}} f(x_{2i-1}, y_{2j-1}) + f(x_n,y_{2j-1})\\right) \\\\\n",
    "\t\t& \\left.+ \\frac{h}{3} \\left(f(x_0,y_{m}) + 2 \\sum_{i=1}^{\\frac{n}{2}-1} f(x_{2i}, y_{m}) + 4 \\sum_{i=1}^{\\frac{n}{2}} f(x_{2i-1}, y_{m}) + f(x_n,y_{m})\\right)\\right]\\\\\n",
    "\t\\end{split}\n",
    "\\end{equation*}"
   ]
  },
  {
   "cell_type": "code",
   "execution_count": 7,
   "metadata": {},
   "outputs": [],
   "source": [
    "# Para la implementación de este código\n",
    "\n",
    "# Importaremos las funciones necesarias de la libreria nump para definir la función:\n",
    "from numpy import log, sin, cos, pi, sqrt\n",
    "\n",
    "# Importamos la libreria numerica como np\n",
    "import numpy as np"
   ]
  },
  {
   "cell_type": "code",
   "execution_count": 28,
   "metadata": {},
   "outputs": [],
   "source": [
    "# Definimos los parámetros para nuestra función\n",
    "a = 1.4 # Punto izquierdo del intervalo en la variable x\n",
    "b = 2.0 # Punto derecho del intervalo en la variable x\n",
    "c = 1.0 # Punto izquierdo del intervalo en la variable y\n",
    "d = 1.5 # Punto derecho del intervalo en la variable y\n",
    "\n",
    "# Definimos el número de particiones a efectuar\n",
    "n = 6 # Partición en el intervalo x\n",
    "m = 6 # Partición en el intervalo y\n",
    "\n",
    "# Calculamos los puntos h y k\n",
    "h = (b - a) / n\n",
    "k = (d - c) / m"
   ]
  },
  {
   "cell_type": "code",
   "execution_count": 29,
   "metadata": {},
   "outputs": [],
   "source": [
    "# Definimos la función a trabajar\n",
    "def fxy(x,y):\n",
    "    fxy = log(x + 2 * y)\n",
    "    return fxy"
   ]
  },
  {
   "cell_type": "code",
   "execution_count": 30,
   "metadata": {},
   "outputs": [],
   "source": [
    "# Definimos la cuadratura de Simpson para dos dimensiones\n",
    "def simpson2d(fx, a, b, c, d, n, m):\n",
    "    \n",
    "    # Calculamos los puntos h y k\n",
    "    h = (b - a) / n\n",
    "    k = (d - c) / m\n",
    "    \n",
    "    # Creamos un arreglo en dos dimensiones que contenga la partición\n",
    "    eval = np.empty((n+1,m+1))\n",
    "\n",
    "    # Agregamos los puntos sobre los cuales trabajaremos\n",
    "    for j in range(n+1):\n",
    "        for i in range(m+1):\n",
    "            eval[j,i] = fxy(a + i * h, c + j * k)\n",
    "            \n",
    "    # Determinamos las sumas correspondientes de 1, 2, 4, 8 y 16 veces:\n",
    "    simpson1 = eval[0,0] + eval[0,m] + eval[n,0] + eval[n,m]\n",
    "    simpson2 = eval[0,::2][1:int((n/2))].sum() + eval[n,::2][1:int((n/2))].sum() + eval[::2,0][1:int((m/2))].sum()\n",
    "    simpson2 = simpson2 + eval[::2,m][1:int((m/2))].sum()\n",
    "    simpson4 = eval[0,1::2].sum() + eval[n,1::2].sum() + eval[1::2,0].sum() + eval[1::2,m].sum()\n",
    "    simpson4 = simpson4 + eval[::2,::2][1:int((n/2)),1:int((m/2))].sum()\n",
    "    simpson8 = eval[1::2,::2][:,1:int((m/2))].sum() + eval[::2,1::2][1:int((n/2)),:].sum()\n",
    "    simpson16 = eval[1::2,1::2].sum()\n",
    "    \n",
    "    # Conjuntamos las sumas\n",
    "    simpson2d = (h * k / 9) * (simpson1 + 2 * simpson2 + 4 * simpson4 + 8 * simpson8 + 16 * simpson16)\n",
    "    \n",
    "    return simpson2d"
   ]
  },
  {
   "cell_type": "code",
   "execution_count": 32,
   "metadata": {},
   "outputs": [],
   "source": [
    "sim = simpson2d(fxy, a, b, c, d, n, m)"
   ]
  },
  {
   "cell_type": "markdown",
   "metadata": {},
   "source": [
    "# Cuadratura gaussiana\n",
    "\n",
    "Considere la integral doble de la forma\n",
    "\n",
    "\\begin{equation}\n",
    "    \\int_a^b \\int_c^d f(x,y) dy dx,\n",
    "\\end{equation}\n",
    "\n",
    "la cual debe ser primeramente transformada al intervalo $[-1,1]$, por lo que, propondremos el siguiente cambio de variable:\n",
    "\n",
    "\\begin{equation}\n",
    "    x = \\frac{(b-a)u + a + b}{2},\\;\\;\\;\\; y = \\frac{(d-c)v + c + d}{2},\n",
    "\\end{equation}\n",
    "\n",
    "obteniendo así la siguiente igualdad:\n",
    "\n",
    "\\begin{equation}\n",
    "\t\\int_a^b \\int_c^d f(x,y) dy dx = \\frac{(b - a)(d - c)}{4}\\int_{-1}^1 \\int_{-1}^1 f\\left(\\frac{(b-a)u + a + b}{2}, \\frac{(d-c)v + c + d}{2}\\right) dv du.\n",
    "\\end{equation}\n",
    "\n",
    "Finalmente, aplicamos el método de la cuadratura de Gauss y para cada valor de $n$ y $m$ tomamos los coeficientes y los puntos a evaluar la función:\n",
    "\n",
    "\\begin{equation*}\n",
    "\t\\begin{split}\n",
    "\t\t\\int_{-1}^1 \\int_{-1}^1 f(u,v) dv du & \\approx \\int_{-1}^1 \\left(\\sum_{j=1}^n c_j f(u, v_j)\\right) du = \\sum_{j=1}^n c_j  \\int_{-1}^1 f(u, v_j) du \\\\\n",
    "\t\t& \\approx \\sum_{j=1}^n c_j  \\left(\\sum_{i=1}^n k_i f(u_i, v_j) \\right) = \\sum_{j=1}^n \\sum_{i=1}^n c_j k_i f(u_i, v_j)\n",
    "\t\\end{split}\n",
    "\\end{equation*}"
   ]
  },
  {
   "cell_type": "code",
   "execution_count": 33,
   "metadata": {},
   "outputs": [],
   "source": [
    "# Definimos los parámetros para nuestra función\n",
    "a = -pi # Punto izquierdo del intervalo en la variable x\n",
    "b = 3 * pi / 2 # Punto derecho del intervalo en la variable x\n",
    "c = 0 # Punto izquierdo del intervalo en la variable y\n",
    "d = 2 * pi # Punto derecho del intervalo en la variable y\n",
    "\n",
    "# Definimos el número de particiones a efectuar\n",
    "n = 3 # Partición en el intervalo x\n",
    "m = 3 # Partición en el intervalo y"
   ]
  },
  {
   "cell_type": "code",
   "execution_count": 34,
   "metadata": {},
   "outputs": [],
   "source": [
    "# Definimos la función a trabajar\n",
    "def fxy(x,y):\n",
    "    fxy = 0.075 * log(0.3 * x + 0.5 * y + 4.2)\n",
    "    return fxy"
   ]
  },
  {
   "cell_type": "code",
   "execution_count": 35,
   "metadata": {},
   "outputs": [],
   "source": [
    "# Ahora procedemos a definir los métodos de cuadratura gaussiana, por lo que, definiremos dos arreglos, uno para\n",
    "# los coeficientes y otro para los puntos donde se evaluara la función\n",
    "\n",
    "# Arreglo de coeficientes\n",
    "coef = [[1, 1], [5/9, 8/9, 5/9], [(18 - sqrt(30))/36, (18 + sqrt(30))/36, (18 + sqrt(30))/36 ,(18 - sqrt(30))/36],\n",
    "       [0.2369268850, 0.4786286705, 0.5688888889, 0.4786286705, 0.2369268850]]\n",
    "\n",
    "# Arreglo de puntos donde se evaluara\n",
    "evalf = [[-sqrt(1/3), sqrt(1/3)], [-sqrt(3/5), 0, sqrt(3/5)],\n",
    "         [-sqrt((3+2*sqrt(6/5))/7), -sqrt((3-2*sqrt(6/5))/7), sqrt((3-2*sqrt(6/5))/7), sqrt((3+2*sqrt(6/5))/7)],\n",
    "         [0.9061798459, 0.5384693101, 0, -0.5384693101, -0.9061798459]]\n",
    "\n",
    "def gaussiana(fxy, n, m):\n",
    "    \n",
    "    # Determinamos la lista a emplear con el desfase de python\n",
    "    h = n - 2\n",
    "    k = m - 2\n",
    "    \n",
    "    # Definimos una variable donde guardaremos el valor\n",
    "    integral = 0\n",
    "    \n",
    "    # Creamos un arreglo en dos dimensiones que contenga la partición\n",
    "    eval = np.empty((n,m))\n",
    "    \n",
    "    # Empezamos las evaluaciones\n",
    "    for i in range(len(coef[h])):\n",
    "        for j in range(len(coef[k])):\n",
    "            integral = integral + coef[h][i] * coef[k][j] * fxy(evalf[h][i], evalf[k][j])\n",
    "        \n",
    "    # Regresamos el valor\n",
    "    return integral"
   ]
  },
  {
   "cell_type": "code",
   "execution_count": 43,
   "metadata": {},
   "outputs": [],
   "source": [
    "gau = gaussiana(fxy,3,3)"
   ]
  },
  {
   "cell_type": "code",
   "execution_count": 38,
   "metadata": {},
   "outputs": [],
   "source": [
    "# Importamos sympy como sp\n",
    "import sympy as sp\n",
    "\n",
    "# Definimos simbolo\n",
    "x = sp.Symbol('x')\n",
    "y = sp.Symbol('y')\n",
    "\n",
    "# Calculamos la integral con respecto a y\n",
    "iy = sp.integrate(sp.log(x + 2 * y), (y, 1.0, 1.5))\n",
    "\n",
    "# Calculamos la segunda integral\n",
    "ixy = sp.integrate(iy, (x, 1.4, 2.0))\n",
    "\n",
    "# Convertimos a flotante\n",
    "real = float(ixy)"
   ]
  },
  {
   "cell_type": "code",
   "execution_count": 39,
   "metadata": {},
   "outputs": [
    {
     "data": {
      "text/plain": [
       "2.9795648226471627e-08"
      ]
     },
     "execution_count": 39,
     "metadata": {},
     "output_type": "execute_result"
    }
   ],
   "source": [
    "abs(real - sim)"
   ]
  },
  {
   "cell_type": "code",
   "execution_count": 44,
   "metadata": {},
   "outputs": [
    {
     "data": {
      "text/plain": [
       "3.6042141493553004e-09"
      ]
     },
     "execution_count": 44,
     "metadata": {},
     "output_type": "execute_result"
    }
   ],
   "source": [
    "abs(real - gau)"
   ]
  },
  {
   "cell_type": "code",
   "execution_count": 45,
   "metadata": {},
   "outputs": [],
   "source": [
    "# Definimos el número de particiones a efectuar\n",
    "n = 3 # Partición en el intervalo x\n",
    "m = 3 # Partición en el intervalo y"
   ]
  },
  {
   "cell_type": "code",
   "execution_count": 47,
   "metadata": {},
   "outputs": [],
   "source": [
    "# Definimos la función a trabajar\n",
    "def fxy(u,v):\n",
    "    fxy = (((u + 1) * v + 3 * (u + 1)) ** 2 + 2 * (u + 1) ** 3) * (u + 1)\n",
    "    fxy = fxy / 128\n",
    "    return fxy"
   ]
  },
  {
   "cell_type": "code",
   "execution_count": 48,
   "metadata": {},
   "outputs": [],
   "source": [
    "gau = gaussiana(fxy,3,3)"
   ]
  },
  {
   "cell_type": "code",
   "execution_count": 49,
   "metadata": {},
   "outputs": [
    {
     "data": {
      "text/plain": [
       "0.7833333333333334"
      ]
     },
     "execution_count": 49,
     "metadata": {},
     "output_type": "execute_result"
    }
   ],
   "source": [
    "gau"
   ]
  }
 ],
 "metadata": {
  "kernelspec": {
   "display_name": "Python 3",
   "language": "python",
   "name": "python3"
  },
  "language_info": {
   "codemirror_mode": {
    "name": "ipython",
    "version": 3
   },
   "file_extension": ".py",
   "mimetype": "text/x-python",
   "name": "python",
   "nbconvert_exporter": "python",
   "pygments_lexer": "ipython3",
   "version": "3.8.5"
  }
 },
 "nbformat": 4,
 "nbformat_minor": 4
}
