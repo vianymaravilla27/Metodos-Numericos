{
 "cells": [
  {
   "cell_type": "markdown",
   "metadata": {},
   "source": [
    "# Métodos multipasos\n",
    "\n",
    "\n",
    "Se conoce como métodos multipasos a aquellos que emplean la aproximación en más de uno de los puntos de la red precedentes para determinar a aquellos que emplean la aproximación en el siguiente punto, a continuación se presentan en particular dos métodos.\n",
    "\n",
    "**Método explícito de Adams - Bashfort de cuatro pasos**:\n",
    "\n",
    "\n",
    "\\begin{equation}\n",
    "\t\\begin{split}\n",
    "\t\tw_0 & = \\alpha, \\;\\;w_1 = \\alpha_1, \\;\\;w_2 = \\alpha_2, \\;\\;w_3 = \\alpha_3, \\\\\n",
    "\t\tw_{i+1} & = w_i + \\frac{h}{24} \\left[55 f(t_{i}, w_{i}) - 59f(t_{i-1}, w_{i-1}) + 37f(t_{i-2}, w_{i-2}) - 9f(t_{i-3}, w_{i-3})\\right],\n",
    "\t\\end{split}\n",
    "\\end{equation}\n",
    "\n",
    "\n",
    "para cada $i = 3, 4, 5, \\dots, N - 1$, con un error de truncamiento dado por $\\frac{251}{720}y^{(5)}(\\mu_i)h^4$ para algún $\\mu_i\\in(t_{i-3},t_{i+1})$.\n",
    "\n",
    "**Método implícito de Adams - Moulton de tres pasos**:\n",
    "\n",
    "\n",
    "\\begin{equation}\n",
    "\t\\begin{split}\n",
    "\t\tw_0 & = \\alpha, \\;\\;w_1 = \\alpha_1,\\;\\; w_2 = \\alpha_2\\\\\n",
    "\t\tw_{i+1} & = w_i + \\frac{h}{24} \\left[9 f(t_{i+1}, w_{i+1}) + 19 f(t_{i}, w_{i}) - 5 f(t_{i-1}, w_{i-1}) + f(t_{i-2}, w_{i-2})\\right],\n",
    "\t\\end{split}\n",
    "\\end{equation}\n",
    "\n",
    "\n",
    "para cada $i = 3, 4, 5, \\dots, N - 1$, con un error de truncamiento dado por $\\frac{19}{720}y^{(5)}(\\mu_i)h^4$ para algún $\\mu_i\\in(t_{i-2},t_{i+1})$."
   ]
  },
  {
   "cell_type": "code",
   "execution_count": null,
   "metadata": {},
   "outputs": [],
   "source": [
    "# Importamos las librerias y funciones necesarias para replicar el método\n",
    "import numpy as np\n",
    "from numpy import exp"
   ]
  },
  {
   "cell_type": "code",
   "execution_count": null,
   "metadata": {},
   "outputs": [],
   "source": [
    "# Determinamos los parámetros donde trabajaremos\n",
    "a = 0 # Punto inicial\n",
    "b = 2 # Punto final\n",
    "w0 = 2 # Condicion inicial\n",
    "n = 10 # Número de pasos"
   ]
  },
  {
   "cell_type": "code",
   "execution_count": null,
   "metadata": {},
   "outputs": [],
   "source": [
    "# Definimos cadenas auxiliares para impresión de pantalla\n",
    "punto = 'Punto'\n",
    "aproxima = 'Aproximacion'\n",
    "real = 'Real'\n",
    "error = 'Error Absoluto'"
   ]
  },
  {
   "cell_type": "code",
   "execution_count": null,
   "metadata": {},
   "outputs": [],
   "source": [
    "# Definimos la función f(t,y)\n",
    "def fty(t,y):\n",
    "    fty = 2 * y + exp(2 * t)\n",
    "    return fty"
   ]
  },
  {
   "cell_type": "code",
   "execution_count": null,
   "metadata": {},
   "outputs": [],
   "source": [
    "# Determinamos el tamaño de salto\n",
    "h = (b - a) / n"
   ]
  },
  {
   "cell_type": "code",
   "execution_count": null,
   "metadata": {},
   "outputs": [],
   "source": [
    "# Determinamos los valores exactos y los error de aproximacion\n",
    "# Primero definimos la solución real\n",
    "def ftyR(t):\n",
    "    ftyR = exp(2 * t) * (t + 2)\n",
    "    return ftyR"
   ]
  },
  {
   "cell_type": "code",
   "execution_count": null,
   "metadata": {},
   "outputs": [],
   "source": [
    "# Generamos el arreglo de puntos y de aproximaciones donde trabajaremos\n",
    "aprox = np.empty((2,n+1))\n",
    "\n",
    "# La primer dimensión tendra los puntos donde trabajaremos, es decir, los puntos de la malla\n",
    "aprox[0,:] = np.arange(a,b + h, h)\n",
    "\n",
    "# Imprimimos la primer dimensión a fin de validar los resultados:\n",
    "print(aprox[0,:])"
   ]
  },
  {
   "cell_type": "code",
   "execution_count": null,
   "metadata": {},
   "outputs": [],
   "source": [
    "# Incorporamos los valores reales\n",
    "aprox[1,0] = ci\n",
    "aprox[1,1] = ftyR(aprox[0,1])\n",
    "aprox[1,2] = ftyR(aprox[0,2])\n",
    "aprox[1,3] = ftyR(aprox[0,3])"
   ]
  },
  {
   "cell_type": "code",
   "execution_count": null,
   "metadata": {},
   "outputs": [],
   "source": [
    "# Definimos el método de Adams - Bashfort\n",
    "def adamsB4(t, h, w0, w1, w2, w3):\n",
    "    adamsB4 = (h / 24) * (55 * fty(t, w0) - 59 * fty(t - h, w1) + 37 * fty(t - 2 * h, w2) - 9 * fty(t - 3 * h, w3))\n",
    "    return adamsB4"
   ]
  },
  {
   "cell_type": "code",
   "execution_count": null,
   "metadata": {},
   "outputs": [],
   "source": [
    "# Comenzamos el proceso iterativo\n",
    "for i in range(4,n+1):\n",
    "    aprox[1,i] = aprox[1,i-1] + adamsB4(aprox[0,i-1], h, aprox[1,i-1], aprox[1,i-2], aprox[1,i-3], aprox[1,i-4])\n",
    "\n",
    "# Creamos el arreglo donde trabajaremos\n",
    "resumen = np.empty((4,n+1))\n",
    "\n",
    "# Asignamos los puntos donde trabajamos y los valores aproximados\n",
    "resumen[0:2,:] = aprox.copy()\n",
    "\n",
    "# Asignamos los valores reales\n",
    "resumen[2,:] = ftyR(aprox[0,:])\n",
    "\n",
    "# Determinamos el error de aproximación\n",
    "resumen[3,:] = abs(resumen[2,:].copy() - aprox[1,:].copy())"
   ]
  },
  {
   "cell_type": "code",
   "execution_count": null,
   "metadata": {},
   "outputs": [],
   "source": [
    "# Imprimimos los resultados obtenidos\n",
    "print('La aproximacion obtenida se encuentra dada por:')\n",
    "\n",
    "# Titulos de la tabla\n",
    "print(f'{punto:15}   {aproxima:15}  {real:15}  {error:15}')\n",
    "\n",
    "for i in range(n+1):\n",
    "    print('{0:15}   {1:15}   {2:15}   {3:15}'.format(round(resumen[0,i],8), round(resumen[1,i],8), round(resumen[2,i],8), round(resumen[3,i],8)))"
   ]
  }
 ],
 "metadata": {
  "kernelspec": {
   "display_name": "Python 3",
   "language": "python",
   "name": "python3"
  },
  "language_info": {
   "codemirror_mode": {
    "name": "ipython",
    "version": 3
   },
   "file_extension": ".py",
   "mimetype": "text/x-python",
   "name": "python",
   "nbconvert_exporter": "python",
   "pygments_lexer": "ipython3",
   "version": "3.8.5"
  }
 },
 "nbformat": 4,
 "nbformat_minor": 4
}
