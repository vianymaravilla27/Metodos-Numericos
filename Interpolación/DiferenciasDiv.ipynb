{
 "cells": [
  {
   "cell_type": "markdown",
   "metadata": {},
   "source": [
    "# Diferencias divididas\n",
    "\n",
    "\n",
    "Buscaremos que el polinomio interpolador se escriba de una forma alterna más simple y sencilla, supongamos que queremos expresar a dicho polinomio, como sigue:\n",
    "\n",
    "\n",
    "\\begin{equation}\n",
    "\tP_{n}\\left(x\\right) = a_0 + a_1 \\left(x - x_0\\right) + a_2 \\left(x - x_0\\right) \\left(x - x_1\\right) + \\cdots + a_n \\left(x - x_0\\right) \\left(x - x_1\\right) \\cdots \\left(x - x_{n-1}\\right)\n",
    "\\end{equation}\n",
    "\n",
    "\n",
    "Notemos que para determinar estos coeficientes, podemos evalular la función en el punto $x = x_0$ y entonces obtenemos que:\n",
    "\n",
    "\n",
    "\\begin{equation*}\n",
    "\ta_0 = P_{n}(x_0) = f(x_0),\n",
    "\\end{equation*}\n",
    "\n",
    "\n",
    "posteriormente, ahora si evaluamos en el punto $x = x_1$ podemos obtener un segundo coeficientes de la función, es decir:\n",
    "\n",
    "\n",
    "\\begin{equation*}\n",
    "\tP_{n}(x_1) = a_0 + a_1 (x_1 - x_0)\\;\\iff\\; f(x_1) = f(x_0) + a_1 (x_1 - x_0)\\;\\iff\\; \\frac{f(x_1) - f(x_0)}{x_1 - x_0} = a_1.\n",
    "\\end{equation*}\n",
    "\n",
    "\n",
    "Ahora bien, podemos continuar con este proceso iterativo, por lo que, entonces definimos las siguiente diferencias divididas; la diferencia dividida cero o inicial de la función $f$ con respecto al punto $x_i$, se denota como $f[x_i]$, la cual coincide con el valor de $f$ en el punto $x_i$\n",
    "\n",
    "\n",
    "\\begin{equation}\n",
    "\tf\\left[x_i\\right] = f\\left(x_i\\right),\n",
    "\\end{equation}\n",
    "\n",
    "\n",
    "y ahora para el resto de las diferencias, las damos en términos de una recursividad, misma que permite obtener la primer diferencia en términos de la diferencia cero, en particular:\n",
    "\n",
    "\n",
    "\\begin{equation}\n",
    "\tf\\left[x_i, x_{i+1}\\right] = \\frac{f\\left[x_{i+1}\\right] - f\\left[x_i\\right]}{x_{i+1} - x_i}.\n",
    "\\end{equation}\n",
    "\n",
    "\n",
    "Continuemos con una diferencia adicional, es decir, la diferencia de orden $2$; esta misma se encuentra dada en términos:\n",
    "\n",
    "\n",
    "\\begin{equation}\n",
    "    f\\left[x_i, x_{i+1}, x_{i+2}\\right] = \\frac{f\\left[x_{i+1}, x_{i+2}\\right] - f\\left[x_i, x_{i+1}\\right]}{x_{i+2} - x_i},\n",
    "\\end{equation}\n",
    "\n",
    "\n",
    "de forma análoga después de determinar las primeras $k -1$ - ésimas diferencias divididas,\n",
    "\n",
    "\n",
    "\\begin{equation*}\n",
    "    f[x_i, x_{i+1}, x_{i+2}, \\dots, x_{i +(k-1)}],\\;\\;\\;\\;\\; f[x_{i+1}, x_{i+2}, x_{i+3}, \\dots, x_{i+k}],\n",
    "\\end{equation*}\n",
    "\n",
    "\n",
    "entonces la $k$ - ésima diferencia dividida es:\n",
    "\n",
    "\n",
    "\\begin{equation}\n",
    "    f\\left[x_i, x_{i+1}, x_{i+2},\\dots, x_{i+k}\\right] = \\frac{f\\left[x_{i+1}, x_{i+2},\\dots,x_{i+k}\\right] - f\\left[x_i, x_{i+1},\\dots,x_{i+k-1}\\right]}{x_{i+k} - x_i}\n",
    "\\end{equation}\n",
    "\n",
    "\n",
    "Y finalmente, el proceso termina cuando calculamos la $n$-ésima diferencia dividida, la cual considerará, la totalidad de los puntos\n",
    "\n",
    "\n",
    "\\begin{equation}\n",
    "    f\\left[x_0, x_{1}, x_{2},\\dots, x_{n}\\right] = \\frac{f\\left[x_{1}, x_{2},\\dots,x_{n}\\right] - f\\left[x_0, x_{1},\\dots,x_{n-1}\\right]}{x_{n} - x_0}\n",
    "\\end{equation}\n",
    "\n",
    "\n",
    "Ahora bien, podemos emplear dichas diferencias divididas para reexpresar el polinomio interpolador, a partir, de las diferencias divididas de Newton. Con esto, se obtiene la forma del polinomio interpolador en su forma de diferencias divididas:\n",
    "\n",
    "\n",
    "\\begin{equation}\n",
    "    \\begin{split}\n",
    "        P_{n}\\left(x\\right) & = \\sum_{i=0}^{n} f\\left[x_0, x_1, \\dots, x_i\\right] w_{i-1}\\left(x\\right)\\\\\n",
    "        & = f\\left[x_0\\right] + f\\left[x_0, x_1\\right]\\left(x - x_0\\right) + \\cdots + f\\left[x_0, x_1, \\dots, x_n\\right] \\left(x - x_0\\right)\\left(x - x_1\\right)\\cdots \\left(x - x_{n-1}\\right)\n",
    "    \\end{split}\n",
    "\\end{equation}\n",
    "\n",
    "\n",
    "Cabe señalar que, ahora presentaremos un método mediante el cual podemos determinar las diferencias divididas, este método se obtiene a partir de introducir los datos en una tabla, la cual se presenta a continuación:\n",
    "\n",
    "\n",
    "\\begin{equation*}\n",
    "    \\begin{array}{|c|c|c|c|c|c|c|}\n",
    "        \\hline\n",
    "        x & 0\\;DD & 1\\;DD & 2\\;DD & 3\\;DD & 4\\;DD & 5\\; DD \\\\\\hline\n",
    "        x_0 & f\\left[x_0\\right] & & & & & \\\\\n",
    "        & & f\\left[x_0, x_1\\right] & & & & \\\\\n",
    "        x_1 & f\\left[x_1\\right] & & f\\left[x_0, x_1, x_2\\right] & & & \\\\\n",
    "        & & f\\left[x_1, x_2\\right] & & f\\left[x_0, x_1, x_2, x_3\\right] & & \\\\ \n",
    "        x_2 & f\\left[x_2\\right] & & f\\left[x_1, x_2, x_3\\right] & & f\\left[x_0, x_1, x_2, x_3, x_4\\right] & \\\\\n",
    "        & & f\\left[x_2, x_3\\right] & & f\\left[x_1, x_2, x_3, x_4\\right] & & f\\left[x_0, x_1, x_2, x_3, x_4, x_5\\right] \\\\\n",
    "        x_3 & f\\left[x_3\\right] & & f\\left[x_2, x_3, x_4\\right] & & f\\left[x_1, x_2, x_3, x_4, x_5\\right] & \\\\\n",
    "        & & f\\left[x_3, x_4\\right] & & f\\left[x_2, x_3, x_4, x_5\\right] & & \\\\\n",
    "        x_4 & f\\left[x_4\\right] & & f\\left[x_3, x_4, x_5\\right] & & & \\\\\n",
    "        & & f\\left[x_4, x_5\\right] & & & & \\\\\n",
    "        x_5 & f\\left[x_5\\right] & & & & & \\\\\\hline\n",
    "    \\end{array}\n",
    "\\end{equation*}\n",
    "\n",
    "\n",
    "Y sustituyendo ahora, los valores de cada diferencia, notemos que se obtiene la siguiente tabla:\n",
    "\n",
    "\n",
    "\\begin{equation*}\n",
    "    \\begin{array}{|c|c|c|c|c|}\\hline\n",
    "        1\\;DD & 2\\;DD & 3\\;DD & 4\\;DD & 5\\; DD \\\\\\hline\n",
    "        \\frac{f\\left[x_1\\right]-f\\left[x_0\\right]}{x_1 - x_0} & & & & \\\\\n",
    "        & \\frac{f\\left[x_1, x_2\\right]-f\\left[x_0, x_1\\right]}{x_2 - x_0} & & & \\\\\n",
    "        \\frac{f\\left[x_2\\right]-f\\left[x_1\\right]}{x_2 - x_1} & & \\frac{f\\left[x_1, x_2, x_3\\right]-f\\left[x_0, x_1, x_2\\right]}{x_3 - x_0} & & \\\\ \n",
    "        & \\frac{f\\left[x_2, x_3\\right]-f\\left[x_1, x_2\\right]}{x_3 - x_1} & & \\frac{f\\left[x_1, x_2, x_3, x_4\\right]-f\\left[x_0, x_1, x_2, x_3\\right]}{x_4 - x_0} & \\\\\n",
    "        \\frac{f\\left[x_3\\right]-f\\left[x_2\\right]}{x_3 - x_2} & & \\frac{f\\left[x_2, x_3, x_4\\right]-f\\left[x_1, x_2, x_3\\right]}{x_4 - x_1} & & \\frac{f\\left[x_1, x_2, x_3, x_4, x_5\\right] - f\\left[x_0, x_1, x_2, x_3, x_4\\right]}{x_5 - x_0} \\\\\n",
    "        & \\frac{f\\left[x_3, x_4\\right]-f\\left[x_2, x_3\\right]}{x_4 - x_2} & & \\frac{f\\left[x_2, x_3, x_4, x_5\\right]-f\\left[x_1, x_2, x_3, x_4\\right]}{x_5 - x_1} & \\\\\n",
    "        \\frac{f\\left[x_4\\right]-f\\left[x_3\\right]}{x_4 - x_3} & & \\frac{f\\left[x_3, x_4, x_5\\right]-f\\left[x_2, x_3, x_4\\right]}{x_5 - x_2} & & \\\\\n",
    "        & \\frac{f\\left[x_4, x_5\\right]-f\\left[x_3, x_4\\right]}{x_5 - x_3} & & & \\\\\n",
    "        \\frac{f\\left[x_5\\right]-f\\left[x_4\\right]}{x_5 - x_4} & & & & \\\\ \\hline\n",
    "    \\end{array}\n",
    "\\end{equation*}"
   ]
  },
  {
   "cell_type": "code",
   "execution_count": 1,
   "metadata": {},
   "outputs": [],
   "source": [
    "# También importaremos numpy para tener el cálculo numérico\n",
    "import numpy as np\n",
    "\n",
    "# También importamos la libreria de graficación\n",
    "import matplotlib.pyplot as plt\n",
    "\n",
    "# Importamos la libreria de pandas\n",
    "import pandas as pd"
   ]
  },
  {
   "cell_type": "code",
   "execution_count": 2,
   "metadata": {},
   "outputs": [
    {
     "data": {
      "text/plain": [
       "array([[1.       , 0.7651977],\n",
       "       [1.3      , 0.620086 ],\n",
       "       [1.6      , 0.4554022],\n",
       "       [1.9      , 0.2818186],\n",
       "       [2.2      , 0.1103623]])"
      ]
     },
     "execution_count": 2,
     "metadata": {},
     "output_type": "execute_result"
    }
   ],
   "source": [
    "# Importamos la información mediante un archivo en csv\n",
    "data = pd.read_csv('EjemploInt2.csv')\n",
    "\n",
    "# Visualizamos la información mediante un arreglo\n",
    "arreglo = data.values\n",
    "\n",
    "# Imprimimos el arreglo\n",
    "arreglo"
   ]
  },
  {
   "cell_type": "code",
   "execution_count": 19,
   "metadata": {},
   "outputs": [],
   "source": [
    "# Determinamos el número de datos (puntos de aproximacion)\n",
    "n = len(arreglo)\n",
    "\n",
    "# Creamos un arreglo para la tabla de diferencias divididas, la máxima diferencia es de orden n - 1\n",
    "A = np.zeros((n, n+1))\n",
    "\n",
    "# Incorporamos la información previamente obtenida\n",
    "A[:,:2] = arreglo.copy()"
   ]
  },
  {
   "cell_type": "code",
   "execution_count": 21,
   "metadata": {},
   "outputs": [],
   "source": [
    "# Procedemos a determinar la tabla de diferencias divididas\n",
    "for i in range(n):\n",
    "    \n",
    "    # Obtenemos las diferencias divididas de orden i\n",
    "    for j in range(n-i-1):\n",
    "        \n",
    "        # Determinamos la diferencia dividida\n",
    "        A[j, i+2] = (A[j+1, i+1] - A[j, i+1]) / (A[j+i+1, 0] - A[j, 0])"
   ]
  },
  {
   "cell_type": "code",
   "execution_count": 25,
   "metadata": {},
   "outputs": [],
   "source": [
    "# Definimos cadenas auxiliares para impresión de pantalla\n",
    "punto = 'Punto'\n",
    "diferencia0 = 'DD orden 0'\n",
    "diferencia1 = 'DD orden 1'\n",
    "diferencia2 = 'DD orden 2'\n",
    "diferencia3 = 'DD orden 3'\n",
    "diferencia4 = 'DD orden 4'"
   ]
  },
  {
   "cell_type": "code",
   "execution_count": 48,
   "metadata": {},
   "outputs": [
    {
     "name": "stdout",
     "output_type": "stream",
     "text": [
      "La aproximacion obtenida se encuentra dada por:\n",
      "Punto        DD orden 0  DD orden 1  DD orden 2  DD orden 3  DD orden 4\n",
      "       1.0  0.7651977 -0.48370567 -0.10873389  0.0658784  0.0018251\n",
      "       1.3   0.620086  -0.548946 -0.04944333 0.06806852        0.0\n",
      "       1.6  0.4554022  -0.578612 0.01181833        0.0        0.0\n",
      "       1.9  0.2818186  -0.571521        0.0        0.0        0.0\n",
      "       2.2  0.1103623        0.0        0.0        0.0        0.0\n"
     ]
    }
   ],
   "source": [
    "# Imprimimos los resultados obtenidos\n",
    "print('La aproximacion obtenida se encuentra dada por:')\n",
    "\n",
    "# Incorporamos los resultados obtenidos\n",
    "print(f'{punto:10}   {diferencia0:10}  {diferencia1:10}  {diferencia2:10}  {diferencia3:10}  {diferencia4:10}')\n",
    "\n",
    "for i in range(n):\n",
    "    print('{0:10} {1:10} {2:10} {3:10} {4:10} {5:10}'.format(round(A[i][0],8), round(A[i][1],8),round(A[i][2],8),round(A[i][3],8), round(A[i][4],8), round(A[i][5],8)))"
   ]
  },
  {
   "cell_type": "code",
   "execution_count": 52,
   "metadata": {},
   "outputs": [],
   "source": [
    "# Creamos la función del polinomio interpolador\n",
    "def fx(x,n):\n",
    "    # Inicializamos fx\n",
    "    fx = 0\n",
    "    # Calculamos la suma de los términos\n",
    "    for i in range(n):\n",
    "        # Termino a agregar\n",
    "        ter = 1\n",
    "        for j in range(n+i-n-1):\n",
    "            ter = ter * (x - A[j][0])\n",
    "        # Incorporamos el término\n",
    "        fx = fx + A[0][i+1]\n",
    "        \n",
    "    # Regresamos el valor\n",
    "    return fx"
   ]
  },
  {
   "cell_type": "code",
   "execution_count": 53,
   "metadata": {},
   "outputs": [
    {
     "data": {
      "text/plain": [
       "0.24046164238683415"
      ]
     },
     "execution_count": 53,
     "metadata": {},
     "output_type": "execute_result"
    }
   ],
   "source": [
    "fx(1.1, len(A))"
   ]
  },
  {
   "cell_type": "code",
   "execution_count": 51,
   "metadata": {},
   "outputs": [
    {
     "data": {
      "text/plain": [
       "1.6"
      ]
     },
     "execution_count": 51,
     "metadata": {},
     "output_type": "execute_result"
    }
   ],
   "source": [
    "A[2][0]"
   ]
  },
  {
   "cell_type": "code",
   "execution_count": null,
   "metadata": {},
   "outputs": [],
   "source": []
  }
 ],
 "metadata": {
  "kernelspec": {
   "display_name": "Python 3",
   "language": "python",
   "name": "python3"
  },
  "language_info": {
   "codemirror_mode": {
    "name": "ipython",
    "version": 3
   },
   "file_extension": ".py",
   "mimetype": "text/x-python",
   "name": "python",
   "nbconvert_exporter": "python",
   "pygments_lexer": "ipython3",
   "version": "3.8.5"
  }
 },
 "nbformat": 4,
 "nbformat_minor": 4
}
